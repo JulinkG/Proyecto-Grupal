{
 "cells": [
  {
   "cell_type": "code",
   "execution_count": null,
   "metadata": {},
   "outputs": [],
   "source": [
    "#Tabla_general\n",
    "url_1=\"https://ourworldindata.org/world-population-growth\" #data poblacional\n",
    "url_2=\"https://ourworldindata.org/migration\" #data migratoria\n",
    "url_3=\"https://www.datosmundial.com/america/index.php\" #data inflacion %\n",
    "url_4=\"https://datos.bancomundial.org/indicador/NY.GDP.MKTP.KD.ZG\" #data pbi %\n",
    "url_5=\"https://ourworldindata.org/world-population-growth\"#data poblacion femenina\n",
    "url_6=\"https://ourworldindata.org/world-population-growth\"#data poblacion masculina\n",
    "url_7=\"https://ourworldindata.org/world-population-growth\"#data poblacion total\n",
    "url_8=\"https://www.migrationdataportal.org/es/international-data?t=2019&i=avrr_origin\" #retornos voluntarios"
   ]
  },
  {
   "cell_type": "code",
   "execution_count": null,
   "metadata": {},
   "outputs": [],
   "source": [
    "#Tabla_Desaparecidos\n",
    "url_9=\"https://missingmigrants.iom.int/downloads\"  #migrantes desaparecidos"
   ]
  },
  {
   "cell_type": "code",
   "execution_count": null,
   "metadata": {},
   "outputs": [],
   "source": [
    "#Tabla_edad_sexo_migrante\n",
    "url_10=\"https://www.ilo.org/shinyapps/bulkexplorer24/?region=AMERICAS&lang=es&id=MST_XWAP_SEX_AGE_CBR_NB_A\" #edad y sexo de los migrantes"
   ]
  },
  {
   "cell_type": "code",
   "execution_count": null,
   "metadata": {},
   "outputs": [],
   "source": [
    "#Tabla_salario_actividad\n",
    "url_11=\"https://www.ilo.org/shinyapps/bulkexplorer5/?region=AMERICAS&lang=es&id=EAR_4MTH_SEX_ECO_CUR_NB_A\" #ganacias de inmigrantes por actividad economica"
   ]
  }
 ],
 "metadata": {
  "kernelspec": {
   "display_name": "base",
   "language": "python",
   "name": "python3"
  },
  "language_info": {
   "name": "python",
   "version": "3.9.12"
  },
  "orig_nbformat": 4,
  "vscode": {
   "interpreter": {
    "hash": "8c2e6f1f4adc7ae632a81ea71e6b725939e902c17d1e4f07be81139610fd6976"
   }
  }
 },
 "nbformat": 4,
 "nbformat_minor": 2
}
