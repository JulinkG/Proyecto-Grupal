{
 "cells": [
  {
   "cell_type": "code",
   "execution_count": 7,
   "metadata": {},
   "outputs": [],
   "source": [
    "from sqlalchemy import create_engine\n",
    "import pymysql\n",
    "# pip install apache-airflow\n",
    "# import airflow as arf\n",
    "# import psycopg2\n"
   ]
  },
  {
   "cell_type": "code",
   "execution_count": 23,
   "metadata": {},
   "outputs": [
    {
     "data": {
      "text/html": [
       "<pre style=\"white-space:pre;overflow-x:auto;line-height:normal;font-family:Menlo,'DejaVu Sans Mono',consolas,'Courier New',monospace\"><span style=\"color: #808000; text-decoration-color: #808000; font-weight: bold\">C:\\Users\\aleja\\AppData\\Local\\Temp\\ipykernel_10600\\</span><span style=\"color: #808000; text-decoration-color: #808000; font-weight: bold\">2561463446.</span><span style=\"color: #808000; text-decoration-color: #808000; font-weight: bold\">py:</span><span style=\"color: #808000; text-decoration-color: #808000; font-weight: bold\">30</span><span style=\"color: #808000; text-decoration-color: #808000; font-weight: bold\"> SettingWithCopyWarning</span><span style=\"color: #808000; text-decoration-color: #808000\">: </span>\n",
       "<span style=\"color: #808000; text-decoration-color: #808000\">A value is trying to be set on a copy of a slice from a DataFrame</span>\n",
       "\n",
       "<span style=\"color: #808000; text-decoration-color: #808000\">See the caveats in the documentation: </span><span style=\"color: #808000; text-decoration-color: #808000; text-decoration: underline\">https://pandas.pydata.org/pandas-docs/stable/user_guide/indexing.html#returning-a-view-versus-a-copy</span>\n",
       "</pre>\n"
      ],
      "text/plain": [
       "\u001b[1;33mC:\\Users\\aleja\\AppData\\Local\\Temp\\ipykernel_10600\\\u001b[0m\u001b[1;33m2561463446.\u001b[0m\u001b[1;33mpy:\u001b[0m\u001b[1;33m30\u001b[0m\u001b[1;33m SettingWithCopyWarning\u001b[0m\u001b[33m: \u001b[0m\n",
       "\u001b[33mA value is trying to be set on a copy of a slice from a DataFrame\u001b[0m\n",
       "\n",
       "\u001b[33mSee the caveats in the documentation: \u001b[0m\u001b[4;33mhttps://pandas.pydata.org/pandas-docs/stable/user_guide/indexing.html#returning-a-view-versus-a-copy\u001b[0m\n"
      ]
     },
     "metadata": {},
     "output_type": "display_data"
    },
    {
     "name": "stdout",
     "output_type": "stream",
     "text": [
      "     Year    Country  Emigrants  International migrants  Net migration  \\\n",
      "0    1990  Argentina   430155.0               1649919.0       160000.0   \n",
      "1    1995  Argentina   481968.0               1595069.0      -105000.0   \n",
      "2    2000  Argentina   555542.0               1540219.0      -128000.0   \n",
      "3    2005  Argentina   805291.0               1674163.0      -125000.0   \n",
      "4    2010  Argentina   938639.0               1805957.0      -120000.0   \n",
      "..    ...        ...        ...                     ...            ...   \n",
      "170  2000  Venezuela   317753.0               1013738.0        -4540.0   \n",
      "171  2005  Venezuela   437087.0               1076474.0       -22740.0   \n",
      "172  2010  Venezuela   560528.0               1347347.0      -200220.0   \n",
      "173  2015  Venezuela   709140.0               1404448.0      -431040.0   \n",
      "174  2020  Venezuela  5415337.0               1324193.0     -3266243.0   \n",
      "\n",
      "     Net migration rate  Population  relative migration  \n",
      "0                 1.019    32637658            0.013180  \n",
      "1                -0.623    34946116            0.013792  \n",
      "2                -0.714    37070772            0.014986  \n",
      "3                -0.660    39070504            0.020611  \n",
      "4                -0.602    41100124            0.022838  \n",
      "..                  ...         ...                 ...  \n",
      "170              -0.039    24427732            0.013008  \n",
      "171              -0.180    26668790            0.016389  \n",
      "172              -1.460    28715026            0.019520  \n",
      "173              -2.946    30529722            0.023228  \n",
      "174             -22.327    28490458            0.190075  \n",
      "\n",
      "[175 rows x 8 columns]\n"
     ]
    }
   ],
   "source": [
    "import pandas as pd\n",
    "import numpy as np\n",
    "from sqlite3 import connect\n",
    "import matplotlib.pyplot as plt\n",
    "\n",
    "paises_migraciones_url='https://raw.githubusercontent.com/elgualas/datallake_PG/main/migration%20(1).csv'       \n",
    "paises_poblacion_url='https://raw.githubusercontent.com/elgualas/datallake_PG/main/population-and-demography.csv'\n",
    "\n",
    "paises_migraciones= pd.read_csv(paises_migraciones_url)\n",
    "paises_poblacion = pd.read_csv(paises_poblacion_url)\n",
    "\n",
    "conn = connect(':memory:') \n",
    "paises_migraciones.to_sql('pam',conn,index=False)\n",
    "paises_poblacion.to_sql('pap',conn,index=False)\n",
    "\n",
    "paises_migraciones_america=pd.read_sql('SELECT Year,Country,Emigrants,`International migrants`, `Net migration`, `Net migration rate` FROM pam WHERE Country IN (\"Argentina\",\"Belice\",\"Bolivia\", \"Brasil\",\"Canada\",\"Colombia\", \"Costa Rica\", \"Cuba\", \"Chile\", \"Ecuador\", \"El Salvador\", \"Guatemala\", \"Haiti\", \"Honduras\", \"Jamaica\", \"Mexico\", \"Nicaragua\", \"Panama\", \"Paraguay\", \"Peru\",\"Puerto Rico\", \"Republica Dominicana\",\"United States\",\"Uruguay\",\"Venezuela\",\"Antigua y Barbuda\",\"Bahamas\",\"Barbados\",\"Dominica\",\"Granada\",\"Guyana\",\"Jamaica\",\"República Dominicana\",\"San Cristobal y Nieves\",\"San Vicente y las Granadinas\",\"Santa Lucia\")',conn)\n",
    "paises_poblacion_america=pd.read_sql('SELECT `Country name`, Year, Population FROM pap WHERE `Country name` IN (\"Argentina\",\"Bolivia\",\"Belice\", \"Brasil\",\"Canada\",\"Colombia\", \"Costa Rica\", \"Cuba\", \"Chile\", \"Ecuador\", \"El Salvador\", \"Guatemala\", \"Haiti\", \"Honduras\", \"Jamaica\", \"Mexico\", \"Nicaragua\", \"Panama\", \"Paraguay\", \"Peru\",\"Puerto Rico\", \"Republica Dominicana\",\"United States\",\"Uruguay\",\"Venezuela\",\"Antigua y Barbuda\",\"Bahamas\",\"Barbados\",\"Dominica\",\"Granada\",\"Guyana\",\"Jamaica\",\"República Dominicana\",\"San Cristobal y Nieves\",\"San Vicente y las Granadinas\",\"Santa Lucia\")',conn)\n",
    "\n",
    "paises_migraciones_america.to_sql('a',conn,index=False)\n",
    "paises_poblacion_america.to_sql('c',conn,index=False)\n",
    "\n",
    "tabla=pd.read_sql('SELECT a.Year,a.Country,a.Emigrants,a.`International migrants`,a.`Net migration`,a.`Net migration rate`,c.Population FROM a a JOIN c c ON(a.Year=c.Year AND a.`Country`=c.`Country name` )',conn)\n",
    "\n",
    "tabla.dropna(inplace=True)\n",
    "tabla.reset_index(drop=True, inplace=True)\n",
    "\n",
    "tabla['relative migration']=0\n",
    "\n",
    "for i in range(len(tabla)):\n",
    "    tabla['relative migration'][i]=tabla['Emigrants'][i]/tabla['Population'][i]\n",
    "\n",
    "\n",
    "print(tabla)"
   ]
  },
  {
   "cell_type": "code",
   "execution_count": 25,
   "metadata": {},
   "outputs": [
    {
     "data": {
      "text/html": [
       "<div>\n",
       "<style scoped>\n",
       "    .dataframe tbody tr th:only-of-type {\n",
       "        vertical-align: middle;\n",
       "    }\n",
       "\n",
       "    .dataframe tbody tr th {\n",
       "        vertical-align: top;\n",
       "    }\n",
       "\n",
       "    .dataframe thead th {\n",
       "        text-align: right;\n",
       "    }\n",
       "</style>\n",
       "<table border=\"1\" class=\"dataframe\">\n",
       "  <thead>\n",
       "    <tr style=\"text-align: right;\">\n",
       "      <th></th>\n",
       "      <th>Year</th>\n",
       "      <th>Country</th>\n",
       "      <th>Emigrants</th>\n",
       "      <th>International migrants</th>\n",
       "      <th>Net migration</th>\n",
       "      <th>Net migration rate</th>\n",
       "      <th>Population</th>\n",
       "      <th>relative migration</th>\n",
       "    </tr>\n",
       "  </thead>\n",
       "  <tbody>\n",
       "    <tr>\n",
       "      <th>0</th>\n",
       "      <td>1990</td>\n",
       "      <td>Argentina</td>\n",
       "      <td>430155.0</td>\n",
       "      <td>1649919.0</td>\n",
       "      <td>160000.0</td>\n",
       "      <td>1.019</td>\n",
       "      <td>32637658</td>\n",
       "      <td>0.013180</td>\n",
       "    </tr>\n",
       "    <tr>\n",
       "      <th>1</th>\n",
       "      <td>1995</td>\n",
       "      <td>Argentina</td>\n",
       "      <td>481968.0</td>\n",
       "      <td>1595069.0</td>\n",
       "      <td>-105000.0</td>\n",
       "      <td>-0.623</td>\n",
       "      <td>34946116</td>\n",
       "      <td>0.013792</td>\n",
       "    </tr>\n",
       "    <tr>\n",
       "      <th>2</th>\n",
       "      <td>2000</td>\n",
       "      <td>Argentina</td>\n",
       "      <td>555542.0</td>\n",
       "      <td>1540219.0</td>\n",
       "      <td>-128000.0</td>\n",
       "      <td>-0.714</td>\n",
       "      <td>37070772</td>\n",
       "      <td>0.014986</td>\n",
       "    </tr>\n",
       "    <tr>\n",
       "      <th>3</th>\n",
       "      <td>2005</td>\n",
       "      <td>Argentina</td>\n",
       "      <td>805291.0</td>\n",
       "      <td>1674163.0</td>\n",
       "      <td>-125000.0</td>\n",
       "      <td>-0.660</td>\n",
       "      <td>39070504</td>\n",
       "      <td>0.020611</td>\n",
       "    </tr>\n",
       "    <tr>\n",
       "      <th>4</th>\n",
       "      <td>2010</td>\n",
       "      <td>Argentina</td>\n",
       "      <td>938639.0</td>\n",
       "      <td>1805957.0</td>\n",
       "      <td>-120000.0</td>\n",
       "      <td>-0.602</td>\n",
       "      <td>41100124</td>\n",
       "      <td>0.022838</td>\n",
       "    </tr>\n",
       "    <tr>\n",
       "      <th>...</th>\n",
       "      <td>...</td>\n",
       "      <td>...</td>\n",
       "      <td>...</td>\n",
       "      <td>...</td>\n",
       "      <td>...</td>\n",
       "      <td>...</td>\n",
       "      <td>...</td>\n",
       "      <td>...</td>\n",
       "    </tr>\n",
       "    <tr>\n",
       "      <th>170</th>\n",
       "      <td>2000</td>\n",
       "      <td>Venezuela</td>\n",
       "      <td>317753.0</td>\n",
       "      <td>1013738.0</td>\n",
       "      <td>-4540.0</td>\n",
       "      <td>-0.039</td>\n",
       "      <td>24427732</td>\n",
       "      <td>0.013008</td>\n",
       "    </tr>\n",
       "    <tr>\n",
       "      <th>171</th>\n",
       "      <td>2005</td>\n",
       "      <td>Venezuela</td>\n",
       "      <td>437087.0</td>\n",
       "      <td>1076474.0</td>\n",
       "      <td>-22740.0</td>\n",
       "      <td>-0.180</td>\n",
       "      <td>26668790</td>\n",
       "      <td>0.016389</td>\n",
       "    </tr>\n",
       "    <tr>\n",
       "      <th>172</th>\n",
       "      <td>2010</td>\n",
       "      <td>Venezuela</td>\n",
       "      <td>560528.0</td>\n",
       "      <td>1347347.0</td>\n",
       "      <td>-200220.0</td>\n",
       "      <td>-1.460</td>\n",
       "      <td>28715026</td>\n",
       "      <td>0.019520</td>\n",
       "    </tr>\n",
       "    <tr>\n",
       "      <th>173</th>\n",
       "      <td>2015</td>\n",
       "      <td>Venezuela</td>\n",
       "      <td>709140.0</td>\n",
       "      <td>1404448.0</td>\n",
       "      <td>-431040.0</td>\n",
       "      <td>-2.946</td>\n",
       "      <td>30529722</td>\n",
       "      <td>0.023228</td>\n",
       "    </tr>\n",
       "    <tr>\n",
       "      <th>174</th>\n",
       "      <td>2020</td>\n",
       "      <td>Venezuela</td>\n",
       "      <td>5415337.0</td>\n",
       "      <td>1324193.0</td>\n",
       "      <td>-3266243.0</td>\n",
       "      <td>-22.327</td>\n",
       "      <td>28490458</td>\n",
       "      <td>0.190075</td>\n",
       "    </tr>\n",
       "  </tbody>\n",
       "</table>\n",
       "<p>175 rows × 8 columns</p>\n",
       "</div>"
      ],
      "text/plain": [
       "     Year    Country  Emigrants  International migrants  Net migration  \\\n",
       "0    1990  Argentina   430155.0               1649919.0       160000.0   \n",
       "1    1995  Argentina   481968.0               1595069.0      -105000.0   \n",
       "2    2000  Argentina   555542.0               1540219.0      -128000.0   \n",
       "3    2005  Argentina   805291.0               1674163.0      -125000.0   \n",
       "4    2010  Argentina   938639.0               1805957.0      -120000.0   \n",
       "..    ...        ...        ...                     ...            ...   \n",
       "170  2000  Venezuela   317753.0               1013738.0        -4540.0   \n",
       "171  2005  Venezuela   437087.0               1076474.0       -22740.0   \n",
       "172  2010  Venezuela   560528.0               1347347.0      -200220.0   \n",
       "173  2015  Venezuela   709140.0               1404448.0      -431040.0   \n",
       "174  2020  Venezuela  5415337.0               1324193.0     -3266243.0   \n",
       "\n",
       "     Net migration rate  Population  relative migration  \n",
       "0                 1.019    32637658            0.013180  \n",
       "1                -0.623    34946116            0.013792  \n",
       "2                -0.714    37070772            0.014986  \n",
       "3                -0.660    39070504            0.020611  \n",
       "4                -0.602    41100124            0.022838  \n",
       "..                  ...         ...                 ...  \n",
       "170              -0.039    24427732            0.013008  \n",
       "171              -0.180    26668790            0.016389  \n",
       "172              -1.460    28715026            0.019520  \n",
       "173              -2.946    30529722            0.023228  \n",
       "174             -22.327    28490458            0.190075  \n",
       "\n",
       "[175 rows x 8 columns]"
      ]
     },
     "execution_count": 25,
     "metadata": {},
     "output_type": "execute_result"
    }
   ],
   "source": [
    "tabla"
   ]
  },
  {
   "cell_type": "code",
   "execution_count": 20,
   "metadata": {},
   "outputs": [],
   "source": [
    "# Create a connection string:\n",
    "# Replace the values with your RDS database information\n",
    "DATABASE_TYPE = 'mysql+pymysql'\n",
    "USERNAME = 'admin'\n",
    "PASSWORD = '12345678'\n",
    "HOST = 'database-1.cqu1nfxhhu5u.us-west-2.rds.amazonaws.com'\n",
    "PORT = '3306'\n",
    "DATABASE_NAME = 'migration_flow'\n",
    "\n",
    "connection_string = f\"{DATABASE_TYPE}://{USERNAME}:{PASSWORD}@{HOST}:{PORT}/{DATABASE_NAME}\""
   ]
  },
  {
   "cell_type": "code",
   "execution_count": 21,
   "metadata": {},
   "outputs": [],
   "source": [
    "# Create an engine object:\n",
    "engine = create_engine(connection_string)\n"
   ]
  },
  {
   "cell_type": "code",
   "execution_count": null,
   "metadata": {},
   "outputs": [],
   "source": []
  },
  {
   "cell_type": "code",
   "execution_count": 22,
   "metadata": {},
   "outputs": [
    {
     "name": "stdout",
     "output_type": "stream",
     "text": [
      "(1, 1999)\n"
     ]
    }
   ],
   "source": [
    "# Execute a query\n",
    "result_set = engine.execute('SELECT * FROM prueba')\n",
    "for row in result_set:\n",
    "    print(row)\n",
    "\n"
   ]
  },
  {
   "cell_type": "code",
   "execution_count": 16,
   "metadata": {},
   "outputs": [
    {
     "data": {
      "text/plain": [
       "{'database-1.cqu1nfxhhu5u.us-west-2.rds.amazonaws.com'}"
      ]
     },
     "execution_count": 16,
     "metadata": {},
     "output_type": "execute_result"
    }
   ],
   "source": [
    "#loading dataframes into rds proccese\n",
    "df = tabla\n",
    "table_name = \"your-table-name\"\n",
    "df.to_sql(table_name, engine, if_exists=\"replace\", index=False)\n"
   ]
  },
  {
   "attachments": {},
   "cell_type": "markdown",
   "metadata": {},
   "source": [
    "Establish a connection to your RDS instance: You will need to create a connection object that contains the necessary parameters to connect to your RDS instance. You will need to provide the following information: the database endpoint (usually a URL), the database name, the username, and the password."
   ]
  },
  {
   "cell_type": "code",
   "execution_count": 18,
   "metadata": {},
   "outputs": [
    {
     "ename": "OperationalError",
     "evalue": "connection to server at \"database-1.cqu1nfxhhu5u.us-west-2.rds.amazonaws.com\" (52.32.215.8), port 5432 failed: Connection timed out (0x0000274C/10060)\n\tIs the server running on that host and accepting TCP/IP connections?\n",
     "output_type": "error",
     "traceback": [
      "\u001b[1;31m---------------------------------------------------------------------------\u001b[0m",
      "\u001b[1;31mOperationalError\u001b[0m                          Traceback (most recent call last)",
      "Cell \u001b[1;32mIn [18], line 1\u001b[0m\n\u001b[1;32m----> 1\u001b[0m conn \u001b[39m=\u001b[39m psycopg2\u001b[39m.\u001b[39;49mconnect(\n\u001b[0;32m      2\u001b[0m     host\u001b[39m=\u001b[39;49m\u001b[39m'\u001b[39;49m\u001b[39mdatabase-1.cqu1nfxhhu5u.us-west-2.rds.amazonaws.com\u001b[39;49m\u001b[39m'\u001b[39;49m,\n\u001b[0;32m      3\u001b[0m     database\u001b[39m=\u001b[39;49m\u001b[39m'\u001b[39;49m\u001b[39mmigration_flow\u001b[39;49m\u001b[39m'\u001b[39;49m,\n\u001b[0;32m      4\u001b[0m     user\u001b[39m=\u001b[39;49m\u001b[39m'\u001b[39;49m\u001b[39madmin\u001b[39;49m\u001b[39m'\u001b[39;49m,\n\u001b[0;32m      5\u001b[0m     password\u001b[39m=\u001b[39;49m\u001b[39m'\u001b[39;49m\u001b[39m12345678\u001b[39;49m\u001b[39m'\u001b[39;49m)\n",
      "File \u001b[1;32m~\\AppData\\Local\\Packages\\PythonSoftwareFoundation.Python.3.9_qbz5n2kfra8p0\\LocalCache\\local-packages\\Python39\\site-packages\\psycopg2\\__init__.py:122\u001b[0m, in \u001b[0;36mconnect\u001b[1;34m(dsn, connection_factory, cursor_factory, **kwargs)\u001b[0m\n\u001b[0;32m    119\u001b[0m     kwasync[\u001b[39m'\u001b[39m\u001b[39masync_\u001b[39m\u001b[39m'\u001b[39m] \u001b[39m=\u001b[39m kwargs\u001b[39m.\u001b[39mpop(\u001b[39m'\u001b[39m\u001b[39masync_\u001b[39m\u001b[39m'\u001b[39m)\n\u001b[0;32m    121\u001b[0m dsn \u001b[39m=\u001b[39m _ext\u001b[39m.\u001b[39mmake_dsn(dsn, \u001b[39m*\u001b[39m\u001b[39m*\u001b[39mkwargs)\n\u001b[1;32m--> 122\u001b[0m conn \u001b[39m=\u001b[39m _connect(dsn, connection_factory\u001b[39m=\u001b[39mconnection_factory, \u001b[39m*\u001b[39m\u001b[39m*\u001b[39mkwasync)\n\u001b[0;32m    123\u001b[0m \u001b[39mif\u001b[39;00m cursor_factory \u001b[39mis\u001b[39;00m \u001b[39mnot\u001b[39;00m \u001b[39mNone\u001b[39;00m:\n\u001b[0;32m    124\u001b[0m     conn\u001b[39m.\u001b[39mcursor_factory \u001b[39m=\u001b[39m cursor_factory\n",
      "\u001b[1;31mOperationalError\u001b[0m: connection to server at \"database-1.cqu1nfxhhu5u.us-west-2.rds.amazonaws.com\" (52.32.215.8), port 5432 failed: Connection timed out (0x0000274C/10060)\n\tIs the server running on that host and accepting TCP/IP connections?\n"
     ]
    }
   ],
   "source": [
    "\n",
    "conn = psycopg2.connect(\n",
    "    host='database-1.cqu1nfxhhu5u.us-west-2.rds.amazonaws.com',\n",
    "    database='migration_flow',\n",
    "    user='admin',\n",
    "    password='12345678')"
   ]
  }
 ],
 "metadata": {
  "kernelspec": {
   "display_name": "Python 3",
   "language": "python",
   "name": "python3"
  },
  "language_info": {
   "codemirror_mode": {
    "name": "ipython",
    "version": 3
   },
   "file_extension": ".py",
   "mimetype": "text/x-python",
   "name": "python",
   "nbconvert_exporter": "python",
   "pygments_lexer": "ipython3",
   "version": "3.9.13"
  },
  "orig_nbformat": 4,
  "vscode": {
   "interpreter": {
    "hash": "a7fc44bd2f79fa1a249e0f1256e748224cfea86fe4c1572f2a7a5cf8475183c8"
   }
  }
 },
 "nbformat": 4,
 "nbformat_minor": 2
}
