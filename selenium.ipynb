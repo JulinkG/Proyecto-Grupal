{
 "cells": [
  {
   "cell_type": "code",
   "execution_count": 19,
   "metadata": {},
   "outputs": [],
   "source": [
    "from selenium import webdriver\n",
    "from selenium.webdriver.chrome.options import Options\n",
    "from selenium.webdriver.common.by import By\n",
    "from selenium.webdriver.support.ui import Select\n",
    "from selenium.webdriver.support.ui import WebDriverWait\n",
    "from selenium.webdriver.support import expected_conditions as EC\n",
    "from selenium.webdriver.common.by import By\n",
    "import requests\n",
    "import time\n",
    "import os\n",
    "from urllib.request import urlretrieve\n",
    "import pandas as pd\n",
    "import numpy as np\n",
    "from sqlite3 import connect"
   ]
  },
  {
   "cell_type": "code",
   "execution_count": 20,
   "metadata": {},
   "outputs": [],
   "source": [
    "chrome_options = Options()\n",
    "chrome_options.add_experimental_option(\"prefs\", {\n",
    "    \"download.default_directory\": \"C:\\\\Users\\\\gualas\\\\Desktop\\\\prueba\",\n",
    "})"
   ]
  },
  {
   "cell_type": "code",
   "execution_count": 21,
   "metadata": {},
   "outputs": [
    {
     "name": "stderr",
     "output_type": "stream",
     "text": [
      "C:\\Users\\gualas\\AppData\\Local\\Temp\\ipykernel_3080\\2521872399.py:1: DeprecationWarning: executable_path has been deprecated, please pass in a Service object\n",
      "  driver = webdriver.Chrome(executable_path=r'C:\\Users\\gualas\\Desktop\\ChromeDriver\\chromedriver.exe',options=chrome_options)\n"
     ]
    }
   ],
   "source": [
    "driver = webdriver.Chrome(executable_path=r'C:\\Users\\gualas\\Desktop\\ChromeDriver\\chromedriver.exe',options=chrome_options)\n",
    "# Acceder a la página nro1\n",
    "driver.get(\"https://ourworldindata.org/world-population-growth\")\n",
    "\n",
    "time.sleep(5)\n",
    "# Cerrar ventana emergente de las cookies\n",
    "try:\n",
    "    boton_cookies = WebDriverWait(driver, 10).until(EC.element_to_be_clickable((By.XPATH, '/html/body/div[4]/div/div/div/div[2]/button')))\n",
    "    boton_cookies.click()\n",
    "except:\n",
    "    pass\n",
    "\n",
    "# Hacer clic en el botón \"Download chart\"\n",
    "enlace_descarga = WebDriverWait(driver, 10).until(EC.element_to_be_clickable((By.CSS_SELECTOR, 'a[data-track-note=\"chart-click-download\"]')))\n",
    "enlace_descarga.click()\n",
    "\n",
    "\n",
    "# Esperar a que aparezca el botón de descarga real\n",
    "boton_descarga = WebDriverWait(driver, 10).until(EC.element_to_be_clickable((By.XPATH, '/html/body/main/article/div[2]/div[2]/div/div/section[1]/figure/div/div[3]/div/div[4]/div/div[2]/div/button')))\n",
    "boton_descarga.click()\n",
    "\n",
    "# Acceder a la página nro2\n",
    "driver.get(\"https://ourworldindata.org/migration\")\n",
    "\n",
    "time.sleep(5)\n",
    "# Cerrar ventana emergente de las cookies\n",
    "try:\n",
    "    boton_cookies = WebDriverWait(driver, 10).until(EC.element_to_be_clickable((By.XPATH, '/html/body/div[4]/div/div/div/div[2]/button')))\n",
    "    boton_cookies.click()\n",
    "except:\n",
    "    pass\n",
    "\n",
    "# Hacer clic en el botón \"Download chart\"\n",
    "enlace_descarga = WebDriverWait(driver, 10).until(EC.element_to_be_clickable((By.CSS_SELECTOR, 'a[data-track-note=\"chart-click-download\"]')))\n",
    "enlace_descarga.click()\n",
    "\n",
    "\n",
    "# Esperar a que aparezca el botón de descarga real                                      \n",
    "boton_descarga = WebDriverWait(driver, 10).until(EC.element_to_be_clickable((By.XPATH, '/html/body/main/article/div[2]/div/div/div/section/figure[1]/div/div[3]/div/div[4]/div/div[2]/div/button')))\n",
    "boton_descarga.click()\n",
    "\n",
    "time.sleep(2)\n",
    "driver.quit()"
   ]
  },
  {
   "cell_type": "code",
   "execution_count": 24,
   "metadata": {},
   "outputs": [],
   "source": [
    "paises_migraciones=pd.read_csv(r'C:\\Users\\gualas\\Desktop\\prueba\\migration.csv')\n",
    "paises_poblacion=pd.read_csv(r'C:\\Users\\gualas\\Desktop\\prueba\\population-and-demography.csv')\n",
    "\n",
    "conn = connect(':memory:') \n",
    "paises_migraciones.to_sql('pam',conn,index=False)\n",
    "paises_poblacion.to_sql('pap',conn,index=False)\n",
    "\n",
    "paises_migraciones_america = pd.read_sql('SELECT Year,Country,Emigrants,`International migrants`, `Net migration`, `Net migration rate` FROM pam WHERE Country IN (\"Argentina\",\"Belice\",\"Bolivia\", \"Brasil\",\"Canada\",\"Colombia\", \"Costa Rica\", \"Cuba\", \"Chile\", \"Ecuador\", \"El Salvador\", \"Guatemala\", \"Haiti\", \"Honduras\", \"Jamaica\", \"Mexico\", \"Nicaragua\", \"Panama\", \"Paraguay\", \"Peru\",\"Puerto Rico\", \"Republica Dominicana\",\"United States\",\"Uruguay\",\"Venezuela\",\"Antigua y Barbuda\",\"Bahamas\",\"Barbados\",\"Dominica\",\"Granada\",\"Guyana\",\"Jamaica\",\"República Dominicana\",\"San Cristobal y Nieves\",\"San Vicente y las Granadinas\",\"Santa Lucia\")', conn)\n",
    "\n",
    "paises_poblacion_america=pd.read_sql('SELECT `Country name`, Year, Population FROM pap WHERE `Country name` IN (\"Argentina\",\"Bolivia\",\"Belice\", \"Brasil\",\"Canada\",\"Colombia\", \"Costa Rica\", \"Cuba\", \"Chile\", \"Ecuador\", \"El Salvador\", \"Guatemala\", \"Haiti\", \"Honduras\", \"Jamaica\", \"Mexico\", \"Nicaragua\", \"Panama\", \"Paraguay\", \"Peru\",\"Puerto Rico\", \"Republica Dominicana\",\"United States\",\"Uruguay\",\"Venezuela\",\"Antigua y Barbuda\",\"Bahamas\",\"Barbados\",\"Dominica\",\"Granada\",\"Guyana\",\"Jamaica\",\"República Dominicana\",\"San Cristobal y Nieves\",\"San Vicente y las Granadinas\",\"Santa Lucia\")',conn)\n",
    "\n",
    "paises_migraciones_america.to_sql('a',conn,index=False)\n",
    "paises_poblacion_america.to_sql('c',conn,index=False)\n",
    "\n",
    "tabla=pd.read_sql('SELECT a.Year,a.Country,a.Emigrants,a.`International migrants`,a.`Net migration`,a.`Net migration rate`,c.Population FROM a a JOIN c c ON(a.Year=c.Year AND a.`Country`=c.`Country name` )',conn)\n",
    "\n",
    "tabla.dropna(inplace=True)\n",
    "tabla.reset_index(drop=True, inplace=True)\n",
    "\n",
    "tabla['relative migration']=tabla['Emigrants']/tabla['Population']\n",
    "tabla['Inmigrants']=tabla['Emigrants']+tabla['Net migration']"
   ]
  },
  {
   "cell_type": "code",
   "execution_count": 25,
   "metadata": {},
   "outputs": [
    {
     "data": {
      "text/html": [
       "<div>\n",
       "<style scoped>\n",
       "    .dataframe tbody tr th:only-of-type {\n",
       "        vertical-align: middle;\n",
       "    }\n",
       "\n",
       "    .dataframe tbody tr th {\n",
       "        vertical-align: top;\n",
       "    }\n",
       "\n",
       "    .dataframe thead th {\n",
       "        text-align: right;\n",
       "    }\n",
       "</style>\n",
       "<table border=\"1\" class=\"dataframe\">\n",
       "  <thead>\n",
       "    <tr style=\"text-align: right;\">\n",
       "      <th></th>\n",
       "      <th>Year</th>\n",
       "      <th>Country</th>\n",
       "      <th>Emigrants</th>\n",
       "      <th>International migrants</th>\n",
       "      <th>Net migration</th>\n",
       "      <th>Net migration rate</th>\n",
       "      <th>Population</th>\n",
       "      <th>relative migration</th>\n",
       "      <th>Inmigrants</th>\n",
       "    </tr>\n",
       "  </thead>\n",
       "  <tbody>\n",
       "    <tr>\n",
       "      <th>0</th>\n",
       "      <td>1990</td>\n",
       "      <td>Argentina</td>\n",
       "      <td>430155.0</td>\n",
       "      <td>1649919.0</td>\n",
       "      <td>160000.0</td>\n",
       "      <td>1.019</td>\n",
       "      <td>32637658</td>\n",
       "      <td>0.013180</td>\n",
       "      <td>590155.0</td>\n",
       "    </tr>\n",
       "    <tr>\n",
       "      <th>1</th>\n",
       "      <td>1995</td>\n",
       "      <td>Argentina</td>\n",
       "      <td>481968.0</td>\n",
       "      <td>1595069.0</td>\n",
       "      <td>-105000.0</td>\n",
       "      <td>-0.623</td>\n",
       "      <td>34946116</td>\n",
       "      <td>0.013792</td>\n",
       "      <td>376968.0</td>\n",
       "    </tr>\n",
       "    <tr>\n",
       "      <th>2</th>\n",
       "      <td>2000</td>\n",
       "      <td>Argentina</td>\n",
       "      <td>555542.0</td>\n",
       "      <td>1540219.0</td>\n",
       "      <td>-128000.0</td>\n",
       "      <td>-0.714</td>\n",
       "      <td>37070772</td>\n",
       "      <td>0.014986</td>\n",
       "      <td>427542.0</td>\n",
       "    </tr>\n",
       "    <tr>\n",
       "      <th>3</th>\n",
       "      <td>2005</td>\n",
       "      <td>Argentina</td>\n",
       "      <td>805291.0</td>\n",
       "      <td>1674163.0</td>\n",
       "      <td>-125000.0</td>\n",
       "      <td>-0.660</td>\n",
       "      <td>39070504</td>\n",
       "      <td>0.020611</td>\n",
       "      <td>680291.0</td>\n",
       "    </tr>\n",
       "    <tr>\n",
       "      <th>4</th>\n",
       "      <td>2010</td>\n",
       "      <td>Argentina</td>\n",
       "      <td>938639.0</td>\n",
       "      <td>1805957.0</td>\n",
       "      <td>-120000.0</td>\n",
       "      <td>-0.602</td>\n",
       "      <td>41100124</td>\n",
       "      <td>0.022838</td>\n",
       "      <td>818639.0</td>\n",
       "    </tr>\n",
       "    <tr>\n",
       "      <th>...</th>\n",
       "      <td>...</td>\n",
       "      <td>...</td>\n",
       "      <td>...</td>\n",
       "      <td>...</td>\n",
       "      <td>...</td>\n",
       "      <td>...</td>\n",
       "      <td>...</td>\n",
       "      <td>...</td>\n",
       "      <td>...</td>\n",
       "    </tr>\n",
       "    <tr>\n",
       "      <th>170</th>\n",
       "      <td>2000</td>\n",
       "      <td>Venezuela</td>\n",
       "      <td>317753.0</td>\n",
       "      <td>1013738.0</td>\n",
       "      <td>-4540.0</td>\n",
       "      <td>-0.039</td>\n",
       "      <td>24427732</td>\n",
       "      <td>0.013008</td>\n",
       "      <td>313213.0</td>\n",
       "    </tr>\n",
       "    <tr>\n",
       "      <th>171</th>\n",
       "      <td>2005</td>\n",
       "      <td>Venezuela</td>\n",
       "      <td>437087.0</td>\n",
       "      <td>1076474.0</td>\n",
       "      <td>-22740.0</td>\n",
       "      <td>-0.180</td>\n",
       "      <td>26668790</td>\n",
       "      <td>0.016389</td>\n",
       "      <td>414347.0</td>\n",
       "    </tr>\n",
       "    <tr>\n",
       "      <th>172</th>\n",
       "      <td>2010</td>\n",
       "      <td>Venezuela</td>\n",
       "      <td>560528.0</td>\n",
       "      <td>1347347.0</td>\n",
       "      <td>-200220.0</td>\n",
       "      <td>-1.460</td>\n",
       "      <td>28715026</td>\n",
       "      <td>0.019520</td>\n",
       "      <td>360308.0</td>\n",
       "    </tr>\n",
       "    <tr>\n",
       "      <th>173</th>\n",
       "      <td>2015</td>\n",
       "      <td>Venezuela</td>\n",
       "      <td>709140.0</td>\n",
       "      <td>1404448.0</td>\n",
       "      <td>-431040.0</td>\n",
       "      <td>-2.946</td>\n",
       "      <td>30529722</td>\n",
       "      <td>0.023228</td>\n",
       "      <td>278100.0</td>\n",
       "    </tr>\n",
       "    <tr>\n",
       "      <th>174</th>\n",
       "      <td>2020</td>\n",
       "      <td>Venezuela</td>\n",
       "      <td>5415337.0</td>\n",
       "      <td>1324193.0</td>\n",
       "      <td>-3266243.0</td>\n",
       "      <td>-22.327</td>\n",
       "      <td>28490458</td>\n",
       "      <td>0.190075</td>\n",
       "      <td>2149094.0</td>\n",
       "    </tr>\n",
       "  </tbody>\n",
       "</table>\n",
       "<p>175 rows × 9 columns</p>\n",
       "</div>"
      ],
      "text/plain": [
       "     Year    Country  Emigrants  International migrants  Net migration  \\\n",
       "0    1990  Argentina   430155.0               1649919.0       160000.0   \n",
       "1    1995  Argentina   481968.0               1595069.0      -105000.0   \n",
       "2    2000  Argentina   555542.0               1540219.0      -128000.0   \n",
       "3    2005  Argentina   805291.0               1674163.0      -125000.0   \n",
       "4    2010  Argentina   938639.0               1805957.0      -120000.0   \n",
       "..    ...        ...        ...                     ...            ...   \n",
       "170  2000  Venezuela   317753.0               1013738.0        -4540.0   \n",
       "171  2005  Venezuela   437087.0               1076474.0       -22740.0   \n",
       "172  2010  Venezuela   560528.0               1347347.0      -200220.0   \n",
       "173  2015  Venezuela   709140.0               1404448.0      -431040.0   \n",
       "174  2020  Venezuela  5415337.0               1324193.0     -3266243.0   \n",
       "\n",
       "     Net migration rate  Population  relative migration  Inmigrants  \n",
       "0                 1.019    32637658            0.013180    590155.0  \n",
       "1                -0.623    34946116            0.013792    376968.0  \n",
       "2                -0.714    37070772            0.014986    427542.0  \n",
       "3                -0.660    39070504            0.020611    680291.0  \n",
       "4                -0.602    41100124            0.022838    818639.0  \n",
       "..                  ...         ...                 ...         ...  \n",
       "170              -0.039    24427732            0.013008    313213.0  \n",
       "171              -0.180    26668790            0.016389    414347.0  \n",
       "172              -1.460    28715026            0.019520    360308.0  \n",
       "173              -2.946    30529722            0.023228    278100.0  \n",
       "174             -22.327    28490458            0.190075   2149094.0  \n",
       "\n",
       "[175 rows x 9 columns]"
      ]
     },
     "execution_count": 25,
     "metadata": {},
     "output_type": "execute_result"
    }
   ],
   "source": [
    "tabla"
   ]
  },
  {
   "cell_type": "code",
   "execution_count": 26,
   "metadata": {},
   "outputs": [],
   "source": [
    "# Acceder a la página nro3\n",
    "#no se encuentra el archivo de descarga data inflacion % \n",
    "inflacion_argentina=pd.read_csv(r'inflacion\\inflacion_argentina.csv')\n",
    "inflacion_bahamas=pd.read_csv(r'inflacion\\inflacion_bahamas.csv')\n",
    "inflacion_barbados=pd.read_csv(r'inflacion\\inflacion_barbados.csv')\n",
    "inflacion_bolivia=pd.read_csv(r'inflacion\\inflacion_bolivia.csv')\n",
    "inflacion_brazil=pd.read_csv(r'inflacion\\inflacion_brazil.csv')\n",
    "inflacion_canada=pd.read_csv(r'inflacion\\inflacion_canada.csv')\n",
    "inflacion_chile=pd.read_csv(r'inflacion\\inflacion_chile.csv')\n",
    "inflacion_colombia=pd.read_csv(r'inflacion\\inflacion_colombia.csv')\n",
    "inflacion_costarica=pd.read_csv(r'inflacion\\inflacion_costarica.csv')\n",
    "inflacion_ecuador=pd.read_csv(r'inflacion\\inflacion_ecuador.csv')\n",
    "inflacion_elsalvador=pd.read_csv(r'inflacion\\inflacion_elsalvador.csv')\n",
    "inflacion_guatemala=pd.read_csv(r'inflacion\\inflacion_guatemala.csv')\n",
    "inflacion_guyana=pd.read_csv(r'inflacion\\inflacion_guyana.csv')\n",
    "inflacion_haiti=pd.read_csv(r'inflacion\\inflacion_haiti.csv')\n",
    "inflacion_honduras=pd.read_csv(r'inflacion\\inflacion_honduras.csv')\n",
    "inflacion_jamaica=pd.read_csv(r'inflacion\\inflacion_jamaica.csv')\n",
    "inflacion_mexico=pd.read_csv(r'inflacion\\inflacion_mexico.csv')\n",
    "inflacion_nicaragua=pd.read_csv(r'inflacion\\inflacion_nicaragua.csv')\n",
    "inflacion_panama=pd.read_csv(r'inflacion\\inflacion_panama.csv')\n",
    "inflacion_paraguay=pd.read_csv(r'inflacion\\inflacion_paraguay.csv')\n",
    "inflacion_peru=pd.read_csv(r'inflacion\\inflacion_peru.csv')\n",
    "inflacion_uruguay=pd.read_csv(r'inflacion\\inflacion_uruguay.csv')\n",
    "inflacion_usa=pd.read_csv(r'inflacion\\inflacion_usa.csv')\n",
    "inflacion_venezuela=pd.read_csv(r'inflacion\\inflacion_venezuela.csv')\n"
   ]
  },
  {
   "cell_type": "code",
   "execution_count": 27,
   "metadata": {},
   "outputs": [],
   "source": [
    "inflacion_argentina.drop(['web-scraper-order','web-scraper-start-url'],axis=1,inplace=True)\n",
    "inflacion_argentina['country']='Argentina'\n",
    "inflacion_bahamas.drop(['web-scraper-order','web-scraper-start-url'],axis=1,inplace=True)\n",
    "inflacion_bahamas['country']='Bahamas'\n",
    "inflacion_barbados.drop(['web-scraper-order','web-scraper-start-url'],axis=1,inplace=True)\n",
    "inflacion_barbados['country']='Barbados'\n",
    "inflacion_brazil.drop(['web-scraper-order','web-scraper-start-url'],axis=1,inplace=True)\n",
    "inflacion_brazil['country']='Brazil'\n",
    "inflacion_bolivia.drop(['web-scraper-order','web-scraper-start-url'],axis=1,inplace=True)\n",
    "inflacion_bolivia['country']='Bolivia'\n",
    "inflacion_canada.drop(['web-scraper-order','web-scraper-start-url'],axis=1,inplace=True)\n",
    "inflacion_canada['country']='Canada'\n",
    "inflacion_chile.drop(['web-scraper-order','web-scraper-start-url'],axis=1,inplace=True)\n",
    "inflacion_chile['country']='Chile'\n",
    "inflacion_colombia.drop(['web-scraper-order','web-scraper-start-url'],axis=1,inplace=True)\n",
    "inflacion_colombia['country']='Colombia'\n",
    "inflacion_costarica.drop(['web-scraper-order','web-scraper-start-url'],axis=1,inplace=True)\n",
    "inflacion_costarica['country']='Costa Rica'\n",
    "inflacion_ecuador.drop(['web-scraper-order','web-scraper-start-url'],axis=1,inplace=True)\n",
    "inflacion_ecuador['country']='Ecuador'\n",
    "inflacion_elsalvador.drop(['web-scraper-order','web-scraper-start-url'],axis=1,inplace=True)\n",
    "inflacion_elsalvador['country']='El Salvador'\n",
    "inflacion_guatemala.drop(['web-scraper-order','web-scraper-start-url'],axis=1,inplace=True)\n",
    "inflacion_guatemala['country']='Guatemala'\n",
    "inflacion_guyana.drop(['web-scraper-order','web-scraper-start-url'],axis=1,inplace=True)\n",
    "inflacion_guyana['country']='Guyana'\n",
    "inflacion_haiti.drop(['web-scraper-order','web-scraper-start-url'],axis=1,inplace=True)\n",
    "inflacion_haiti['country']='Haiti'\n",
    "inflacion_honduras.drop(['web-scraper-order','web-scraper-start-url'],axis=1,inplace=True)\n",
    "inflacion_honduras['country']='Honduras'\n",
    "inflacion_jamaica.drop(['web-scraper-order','web-scraper-start-url'],axis=1,inplace=True)\n",
    "inflacion_jamaica['country']='Jamaica'\n",
    "inflacion_mexico.drop(['web-scraper-order','web-scraper-start-url'],axis=1,inplace=True)\n",
    "inflacion_mexico['country']='Mexico'\n",
    "inflacion_nicaragua.drop(['web-scraper-order','web-scraper-start-url'],axis=1,inplace=True)\n",
    "inflacion_nicaragua['country']='Nicaragua'\n",
    "inflacion_panama.drop(['web-scraper-order','web-scraper-start-url'],axis=1,inplace=True)\n",
    "inflacion_panama['country']='Panama'\n",
    "inflacion_paraguay.drop(['web-scraper-order','web-scraper-start-url'],axis=1,inplace=True)\n",
    "inflacion_paraguay['country']='Paraguay'\n",
    "inflacion_peru.drop(['web-scraper-order','web-scraper-start-url'],axis=1,inplace=True)\n",
    "inflacion_peru['country']='Peru'\n",
    "inflacion_uruguay.drop(['web-scraper-order','web-scraper-start-url'],axis=1,inplace=True)\n",
    "inflacion_uruguay['country']='Uruguay'\n",
    "inflacion_usa.drop(['web-scraper-order','web-scraper-start-url'],axis=1,inplace=True)\n",
    "inflacion_usa['country']='United States'\n",
    "inflacion_venezuela.drop(['web-scraper-order','web-scraper-start-url'],axis=1,inplace=True)\n",
    "inflacion_venezuela['country']='Venezuela'"
   ]
  },
  {
   "cell_type": "code",
   "execution_count": 28,
   "metadata": {},
   "outputs": [],
   "source": [
    "prueba = pd.concat([inflacion_argentina,inflacion_bahamas,inflacion_barbados,inflacion_bolivia,inflacion_brazil,inflacion_canada,inflacion_chile,inflacion_colombia,inflacion_costarica,inflacion_ecuador,inflacion_elsalvador,inflacion_guatemala,inflacion_guyana,inflacion_haiti,inflacion_honduras,inflacion_jamaica,inflacion_mexico,inflacion_nicaragua,inflacion_panama,inflacion_paraguay,inflacion_peru,inflacion_uruguay,inflacion_usa,inflacion_venezuela], axis=0,ignore_index=True)"
   ]
  },
  {
   "cell_type": "code",
   "execution_count": 29,
   "metadata": {},
   "outputs": [],
   "source": [
    "prueba['inflacion']=prueba['inflacion'].apply(lambda x: x.replace(\"%\",\"\"))\n",
    "prueba['inflacion']=prueba['inflacion'].apply(lambda x: x.replace(\".\",\"\"))\n",
    "prueba['inflacion']=prueba['inflacion'].apply(lambda x: x.replace(\",\",\".\"))"
   ]
  },
  {
   "cell_type": "code",
   "execution_count": 30,
   "metadata": {},
   "outputs": [
    {
     "data": {
      "text/plain": [
       "1347"
      ]
     },
     "execution_count": 30,
     "metadata": {},
     "output_type": "execute_result"
    }
   ],
   "source": [
    "conn = connect(':memory:')\n",
    "tabla.to_sql('tab',conn,index=False)\n",
    "prueba.to_sql('pru',conn,index=False)"
   ]
  },
  {
   "cell_type": "code",
   "execution_count": 31,
   "metadata": {},
   "outputs": [],
   "source": [
    "tabla_2=pd.read_sql('SELECT tab.*,pru.inflacion as Inflation FROM tab tab JOIN pru pru ON(tab.Year=pru.Año AND tab.Country=pru.country)',conn)"
   ]
  },
  {
   "cell_type": "code",
   "execution_count": 40,
   "metadata": {},
   "outputs": [
    {
     "name": "stderr",
     "output_type": "stream",
     "text": [
      "C:\\Users\\gualas\\AppData\\Local\\Temp\\ipykernel_3080\\740268378.py:2: DeprecationWarning: executable_path has been deprecated, please pass in a Service object\n",
      "  driver = webdriver.Chrome(executable_path=r'C:\\Users\\gualas\\Desktop\\ChromeDriver\\chromedriver.exe',options=chrome_options)\n"
     ]
    }
   ],
   "source": [
    "# Acceder a la página nro4\n",
    "driver = webdriver.Chrome(executable_path=r'C:\\Users\\gualas\\Desktop\\ChromeDriver\\chromedriver.exe',options=chrome_options)\n",
    "\n",
    "\n",
    "# Abrir la página de la URL dada\n",
    "driver.get(\"https://datos.bancomundial.org/indicador/NY.GDP.MKTP.KD.ZG\")\n",
    "\n",
    "# Esperar a que el botón de descarga esté disponible y hacer clic en él\n",
    "boton_descarga = WebDriverWait(driver, 10).until(EC.element_to_be_clickable((By.XPATH, '//*[@id=\"mainChart\"]/aside/div/div[2]/div/p/a[1]')))\n",
    "boton_descarga.click()\n",
    "\n",
    "time.sleep(2)\n",
    "driver.quit()"
   ]
  },
  {
   "cell_type": "code",
   "execution_count": null,
   "metadata": {},
   "outputs": [],
   "source": [
    "pib=pd.read_csv(r'pib\\pib.csv')"
   ]
  },
  {
   "cell_type": "code",
   "execution_count": null,
   "metadata": {},
   "outputs": [],
   "source": [
    "pib=pib[pib['Country Name'].isin(['Argentina', 'Bahamas', 'Barbados', 'Bolivia', 'Brazil', 'Canada',\n",
    "       'Chile', 'Colombia', 'Costa Rica', 'Ecuador', 'El Salvador',\n",
    "       'Guatemala', 'Guyana', 'Haiti', 'Honduras', 'Jamaica', 'Mexico',\n",
    "       'Nicaragua', 'Panama', 'Paraguay', 'Peru', 'United States',\n",
    "       'Uruguay', 'Venezuela'])]\n",
    "pib=pib.loc[:,['Country Name','1990','1995','2000',\n",
    "       '2005','2010',  '2015','2020']]\n",
    "pib.reset_index(inplace=True,drop=True)"
   ]
  },
  {
   "cell_type": "code",
   "execution_count": null,
   "metadata": {},
   "outputs": [],
   "source": [
    "PBI=pd.DataFrame({\n",
    "    'Country':['Argentina','Argentina','Argentina','Argentina','Argentina','Argentina','Argentina','Bolivia','Bolivia','Bolivia','Bolivia','Bolivia','Bolivia','Bolivia','Brazil','Brazil','Brazil','Brazil','Brazil','Brazil','Brazil','Barbados','Barbados','Barbados','Barbados','Barbados','Barbados','Barbados','Canada','Canada','Canada','Canada','Canada','Canada','Canada','Chile','Chile','Chile','Chile','Chile','Chile','Chile','Colombia','Colombia','Colombia','Colombia','Colombia','Colombia','Colombia','Costa Rica','Costa Rica','Costa Rica','Costa Rica','Costa Rica','Costa Rica','Costa Rica','Ecuador','Ecuador','Ecuador','Ecuador','Ecuador','Ecuador','Ecuador','Guatemala','Guatemala','Guatemala','Guatemala','Guatemala','Guatemala','Guatemala','Guyana','Guyana','Guyana','Guyana','Guyana','Guyana','Guyana','Honduras','Honduras','Honduras','Honduras','Honduras','Honduras','Honduras','Haiti','Haiti','Haiti','Haiti','Haiti','Haiti','Haiti','Jamaica','Jamaica','Jamaica','Jamaica','Jamaica','Jamaica','Jamaica','Mexico','Mexico','Mexico','Mexico','Mexico','Mexico','Mexico','Nicaragua','Nicaragua','Nicaragua','Nicaragua','Nicaragua','Nicaragua','Nicaragua','Panama','Panama','Panama','Panama','Panama','Panama','Panama','Peru','Peru','Peru','Peru','Peru','Peru','Peru','Paraguay','Paraguay','Paraguay','Paraguay','Paraguay','Paraguay','Paraguay','El Salvador','El Salvador','El Salvador','El Salvador','El Salvador','El Salvador','El Salvador','Uruguay','Uruguay','Uruguay','Uruguay','Uruguay','Uruguay','Uruguay','United States','United States','United States','United States','United States','United States','United States','Venezuela','Venezuela','Venezuela','Venezuela','Venezuela','Venezuela','Venezuela'],\n",
    "    'Year':['1990', '1995', '2000', '2005', '2010', '2015', '2020','1990', '1995', '2000', '2005', '2010', '2015', '2020','1990', '1995', '2000', '2005', '2010', '2015', '2020','1990', '1995', '2000', '2005', '2010', '2015', '2020','1990', '1995', '2000', '2005', '2010', '2015', '2020','1990', '1995', '2000', '2005', '2010', '2015', '2020','1990', '1995', '2000', '2005', '2010', '2015', '2020','1990', '1995', '2000', '2005', '2010', '2015', '2020','1990', '1995', '2000', '2005', '2010', '2015', '2020','1990', '1995', '2000', '2005', '2010', '2015', '2020','1990', '1995', '2000', '2005', '2010', '2015', '2020','1990', '1995', '2000', '2005', '2010', '2015', '2020','1990', '1995', '2000', '2005', '2010', '2015', '2020','1990', '1995', '2000', '2005', '2010', '2015', '2020','1990', '1995', '2000', '2005', '2010', '2015', '2020','1990', '1995', '2000', '2005', '2010', '2015', '2020','1990', '1995', '2000', '2005', '2010', '2015', '2020','1990', '1995', '2000', '2005', '2010', '2015', '2020','1990', '1995', '2000', '2005', '2010', '2015', '2020','1990', '1995', '2000', '2005', '2010', '2015', '2020','1990', '1995', '2000', '2005', '2010', '2015', '2020','1990', '1995', '2000', '2005', '2010', '2015', '2020','1990', '1995', '2000', '2005', '2010', '2015', '2020'],\n",
    "    'PBI':[ -2.46721377810472, -2.84520961057079,\n",
    "        -0.78899893905691, 8.85165992013437, 10.1253981561002,\n",
    "        2.73115982828944, -9.94323513446069, 4.6357874278518, 4.67827659709971, 2.50781080899483,\n",
    "        4.42143312687979, 4.1267225910567, 4.85718730035796,\n",
    "        -8.73788443399144, -4.35000000000022, 4.22379363350413, 4.38794944745618,\n",
    "        3.20213206130431, 7.52822581815364, -3.54576339269425,\n",
    "        -3.87867633397198, -3.30759330759331, 2.01399800028568,\n",
    "        4.44718962322422, 3.95545760352627, -2.36516470308347,\n",
    "        2.47261987248125, -13.3110215258234, 0.2, 2.7, 5.17763566824114, 3.20420042827129,\n",
    "        3.08949461982786, 0.659176863558869, -5.23302430280606, 3.33356547444561, 8.93329586932387, 4.9716214882971,\n",
    "        5.83704571917758, 5.85165102224047, 2.15194249981184,\n",
    "        -5.9782240617438, 4.28199833053058, 5.2024375925092, 2.92486148314592,\n",
    "        4.82876110795085, 4.49465897070922, 2.95590137527523,\n",
    "        -7.04815120786543, 3.55306336572285, 4.15395304305277,\n",
    "        3.86871808818643, 3.97666636792908, 5.36034347985841,\n",
    "        3.65208096802883, -4.05090817067276, 3.67991405278418, 2.25254877423716, 1.0918015643576,\n",
    "        5.29130826699402, 3.52529866894027, 0.0988726083462694,\n",
    "        -7.78760709093422, 3.10256317557587, 4.94854750210382, 3.6088687174876,\n",
    "        3.27602692588886, 2.88417542800377, 4.09217081621244,\n",
    "        -1.76408292563957, -3.06748466406728, 5.03144655812085, -1.36380390261873,\n",
    "        -1.95095759501714, 4.13844160137342, 0.687521210092171,\n",
    "        43.4795559399402, 2.7917489495977, 6.18930455759235, 7.29128815869618,\n",
    "        6.05059922215973, 3.73114034433009, 3.84007997093951,\n",
    "        -8.96476018404584, 1.03812280198248, 9.89770748815705, 0.870059259424892,\n",
    "        3.07217337664731, -5.65151153448299, 2.5625088349003,\n",
    "        -3.34337261175989, 4.2005351147029, 2.34995704147829, 0.87870354796236,\n",
    "        0.893797935945003, -1.45714720947502, 0.92148712538031, -10.0, 5.17576838681073, -6.29123082110117, 4.94245371467422,\n",
    "        2.30780706591736, 5.11811814321163, 3.29315152833387,\n",
    "        -7.98791234014749, -0.0524997212687737, 5.91190795714505,\n",
    "        4.10159023598223, 4.28239836333562, 4.40964549908733,\n",
    "        4.79205676554646, -1.7899754441716, 8.09899300573198, 1.7516787571155, 2.71537415482821,\n",
    "        7.19127940233535, 5.82799349428571, 5.7330542960121,\n",
    "        -17.9448935972493, -4.98256353646605, 7.41139504735119, 2.69437139806912,\n",
    "        6.28506032509601, 8.33245910749577, 3.25224477218451,\n",
    "        -10.9526989325015, 4.12328287941739, 6.82281030358578,\n",
    "        -2.31414056819045, 2.13349066459601, 11.0952312685521,\n",
    "        2.95715173487106, -0.819785390971916, 4.83290057793786, 4.73408140229732,\n",
    "        1.12790697674419, 2.70546347259486, 2.10788757932909,\n",
    "        2.40000000000001, -8.17721743762763, 0.297348378681562, -1.44759896894408,\n",
    "        -1.92993063772035, 7.46013213775913, 7.80340966564692,\n",
    "        0.370741265001499, -6.12147627999001, 1.88596495668033, 2.68421727207786,\n",
    "        4.07715947941618, 3.48322032025258, 2.70885669419681,\n",
    "        2.70636958176399, -2.76780251140578,6.5,4,3.7,10.3,-1.5,-15.7,-19.7]})"
   ]
  },
  {
   "cell_type": "code",
   "execution_count": null,
   "metadata": {},
   "outputs": [],
   "source": [
    "PBI.to_sql('pbi',conn,index=False)\n",
    "tabla_2.to_sql('t2',conn,index=False)\n",
    "tabla_3=pd.read_sql('SELECT t2.*,pbi.PBI FROM t2 t2 JOIN pbi pbi ON(t2.Year=pbi.Year AND t2.Country=pbi.Country)',conn)"
   ]
  },
  {
   "cell_type": "code",
   "execution_count": 14,
   "metadata": {},
   "outputs": [
    {
     "name": "stderr",
     "output_type": "stream",
     "text": [
      "C:\\Users\\gualas\\AppData\\Local\\Temp\\ipykernel_3080\\3520641847.py:2: DeprecationWarning: executable_path has been deprecated, please pass in a Service object\n",
      "  driver = webdriver.Chrome(executable_path=r'C:\\Users\\gualas\\Desktop\\ChromeDriver\\chromedriver.exe',options=chrome_options)\n"
     ]
    }
   ],
   "source": [
    "# Acceder a la página nro5 poblacion femenina \n",
    "driver = webdriver.Chrome(executable_path=r'C:\\Users\\gualas\\Desktop\\ChromeDriver\\chromedriver.exe',options=chrome_options)\n",
    "\n",
    "# Abrir la página de la URL dada\n",
    "driver.get(\"https://ourworldindata.org/world-population-growth\")\n",
    "\n",
    "# Cerrar ventana emergente de las cookies\n",
    "try:\n",
    "    boton_cookies = WebDriverWait(driver, 10).until(EC.element_to_be_clickable((By.XPATH, '/html/body/div[4]/div/div/div/div[2]/button')))\n",
    "    boton_cookies.click()\n",
    "except:\n",
    "    pass\n",
    "\n",
    "boton_descarga = WebDriverWait(driver, 10).until(EC.element_to_be_clickable((By.XPATH, '/html/body/main/article/div[2]/div[2]/div/div/section[1]/figure/div/form/div[2]/div[3]/label/input')))\n",
    "boton_descarga.click()\n",
    "\n",
    "# Hacer clic en el botón \"Download chart\"\n",
    "enlace_descarga = WebDriverWait(driver, 10).until(EC.element_to_be_clickable((By.CSS_SELECTOR, 'a[data-track-note=\"chart-click-download\"]')))\n",
    "enlace_descarga.click()\n",
    "\n",
    "\n",
    "# Esperar a que aparezca el botón de descarga real\n",
    "boton_descarga = WebDriverWait(driver, 10).until(EC.element_to_be_clickable((By.XPATH, '/html/body/main/article/div[2]/div[2]/div/div/section[1]/figure/div/div[3]/div/div[4]/div/div[2]/div/button')))\n",
    "boton_descarga.click()\n",
    "\n",
    "time.sleep(2)\n",
    "driver.quit()"
   ]
  },
  {
   "cell_type": "code",
   "execution_count": null,
   "metadata": {},
   "outputs": [],
   "source": [
    "poblacion_mujeres=pd.read_csv(r'rangos/population-and-demography_female.csv')\n",
    "poblacion_mujeres.to_sql('muj',conn,index=False)\n",
    "tabla_3.to_sql('t3',conn,index=False)\n",
    "tabla_4=pd.read_sql('SELECT t3.*,muj.`Female population`,muj.`Female population aged 20 to 29 years`,muj.`Female population aged 30 to 39 years`,muj.`Female population aged 40 to 49 years`,muj.`Female population aged 50 to 59 years`,muj.`Female population aged 60 to 69 years` FROM t3 t3 JOIN muj muj ON(t3.Year=muj.Year AND t3.Country=muj.`Country name`)',conn)"
   ]
  },
  {
   "cell_type": "code",
   "execution_count": 15,
   "metadata": {},
   "outputs": [
    {
     "name": "stderr",
     "output_type": "stream",
     "text": [
      "C:\\Users\\gualas\\AppData\\Local\\Temp\\ipykernel_3080\\3674604142.py:2: DeprecationWarning: executable_path has been deprecated, please pass in a Service object\n",
      "  driver = webdriver.Chrome(executable_path=r'C:\\Users\\gualas\\Desktop\\ChromeDriver\\chromedriver.exe',options=chrome_options)\n"
     ]
    }
   ],
   "source": [
    "# Acceder a la página nro6 poblacion masculina\n",
    "driver = webdriver.Chrome(executable_path=r'C:\\Users\\gualas\\Desktop\\ChromeDriver\\chromedriver.exe',options=chrome_options)\n",
    "\n",
    "\n",
    "# Abrir la página de la URL dada\n",
    "driver.get(\"https://ourworldindata.org/world-population-growth\")\n",
    "\n",
    "# Cerrar ventana emergente de las cookies\n",
    "try:\n",
    "    boton_cookies = WebDriverWait(driver, 10).until(EC.element_to_be_clickable((By.XPATH, '/html/body/div[4]/div/div/div/div[2]/button')))\n",
    "    boton_cookies.click()\n",
    "except:\n",
    "    pass\n",
    "\n",
    "boton_descarga = WebDriverWait(driver, 10).until(EC.element_to_be_clickable((By.XPATH, '/html/body/main/article/div[2]/div[2]/div/div/section[1]/figure/div/form/div[2]/div[4]/label/input')))\n",
    "boton_descarga.click()\n",
    "\n",
    "# Hacer clic en el botón \"Download chart\"\n",
    "enlace_descarga = WebDriverWait(driver, 10).until(EC.element_to_be_clickable((By.CSS_SELECTOR, 'a[data-track-note=\"chart-click-download\"]')))\n",
    "enlace_descarga.click()\n",
    "\n",
    "\n",
    "# Esperar a que aparezca el botón de descarga real\n",
    "boton_descarga = WebDriverWait(driver, 10).until(EC.element_to_be_clickable((By.XPATH, '/html/body/main/article/div[2]/div[2]/div/div/section[1]/figure/div/div[3]/div/div[4]/div/div[2]/div/button')))\n",
    "boton_descarga.click()\n",
    "\n",
    "time.sleep(2)\n",
    "driver.quit()"
   ]
  },
  {
   "cell_type": "code",
   "execution_count": 44,
   "metadata": {},
   "outputs": [
    {
     "data": {
      "text/plain": [
       "154"
      ]
     },
     "execution_count": 44,
     "metadata": {},
     "output_type": "execute_result"
    }
   ],
   "source": [
    "poblacion_hombres=pd.read_csv(r'rangos/population-and-demography_male.csv')\n",
    "poblacion_hombres.to_sql('hom',conn,index=False)\n",
    "tabla_4.to_sql('t4',conn,index=False)"
   ]
  },
  {
   "cell_type": "code",
   "execution_count": 45,
   "metadata": {},
   "outputs": [],
   "source": [
    "tabla_5=pd.read_sql('SELECT t4.*,hom.`Male population`,hom.`Male population aged 20 to 29 years`,hom.`Male population aged 30 to 39 years`,hom.`Male population aged 40 to 49 years`,hom.`Male population aged 50 to 59 years`,hom.`Male population aged 60 to 69 years` FROM t4 t4 JOIN hom hom ON(t4.Year=hom.Year AND t4.Country=hom.`Country name`)',conn)"
   ]
  },
  {
   "attachments": {},
   "cell_type": "markdown",
   "metadata": {},
   "source": [
    "verificar poblacion total"
   ]
  },
  {
   "cell_type": "code",
   "execution_count": 16,
   "metadata": {},
   "outputs": [
    {
     "name": "stderr",
     "output_type": "stream",
     "text": [
      "C:\\Users\\gualas\\AppData\\Local\\Temp\\ipykernel_3080\\1684948441.py:2: DeprecationWarning: executable_path has been deprecated, please pass in a Service object\n",
      "  driver = webdriver.Chrome(executable_path=r'C:\\Users\\gualas\\Desktop\\ChromeDriver\\chromedriver.exe',options=chrome_options)\n"
     ]
    }
   ],
   "source": [
    "# Acceder a la página nro7 poblacion total\n",
    "driver = webdriver.Chrome(executable_path=r'C:\\Users\\gualas\\Desktop\\ChromeDriver\\chromedriver.exe',options=chrome_options)\n",
    "\n",
    "# Abrir la página de la URL dada\n",
    "driver.get(\"https://ourworldindata.org/world-population-growth\")\n",
    "\n",
    "# Cerrar ventana emergente de las cookies\n",
    "try:\n",
    "    boton_cookies = WebDriverWait(driver, 10).until(EC.element_to_be_clickable((By.XPATH, '/html/body/div[4]/div/div/div/div[2]/button')))\n",
    "    boton_cookies.click()\n",
    "except:\n",
    "    pass\n",
    "\n",
    "boton_descarga = WebDriverWait(driver, 10).until(EC.element_to_be_clickable((By.XPATH, '/html/body/main/article/div[2]/div[2]/div/div/section[1]/figure/div/form/div[2]/div[2]/label/input')))\n",
    "boton_descarga.click()\n",
    "\n",
    "# Hacer clic en el botón \"Download chart\"\n",
    "enlace_descarga = WebDriverWait(driver, 10).until(EC.element_to_be_clickable((By.CSS_SELECTOR, 'a[data-track-note=\"chart-click-download\"]')))\n",
    "enlace_descarga.click()\n",
    "\n",
    "\n",
    "# Esperar a que aparezca el botón de descarga real\n",
    "boton_descarga = WebDriverWait(driver, 10).until(EC.element_to_be_clickable((By.XPATH, '/html/body/main/article/div[2]/div[2]/div/div/section[1]/figure/div/div[3]/div/div[4]/div/div[2]/div/button')))\n",
    "boton_descarga.click()\n",
    "\n",
    "time.sleep(2)\n",
    "driver.quit()"
   ]
  },
  {
   "cell_type": "code",
   "execution_count": 46,
   "metadata": {},
   "outputs": [
    {
     "data": {
      "text/plain": [
       "154"
      ]
     },
     "execution_count": 46,
     "metadata": {},
     "output_type": "execute_result"
    }
   ],
   "source": [
    "pobrangent=pd.read_csv(r'rangos/population-and-demography_pobranget.csv')\n",
    "pobrangent.to_sql('pob',conn,index=False)\n",
    "tabla_5.to_sql('t5',conn,index=False)"
   ]
  },
  {
   "cell_type": "code",
   "execution_count": 47,
   "metadata": {},
   "outputs": [],
   "source": [
    "tabla_6=pd.read_sql('SELECT t5.*,pob.`Population aged 20 to 29 years`,pob.`Population aged 30 to 39 years`,pob.`Population aged 40 to 49 years`,pob.`Population aged 50 to 59 years`,pob.`Population aged 60 to 69 years` FROM t5 t5 JOIN pob pob ON(t5.Year=pob.Year AND t5.Country=pob.`Country name`)',conn)"
   ]
  },
  {
   "cell_type": "code",
   "execution_count": 48,
   "metadata": {},
   "outputs": [],
   "source": [
    "retornos=pd.read_csv(r'retornos\\retornos_paises_3.csv')"
   ]
  },
  {
   "cell_type": "code",
   "execution_count": 49,
   "metadata": {},
   "outputs": [],
   "source": [
    "retornos.to_sql('ret',conn,index=False)\n",
    "tabla_6.to_sql('t6',conn,index=False)\n",
    "tabla_7=pd.read_sql('SELECT t6.*,ret.`Returns by origin`,ret.`Returns by host` FROM t6 t6 JOIN ret ret ON(t6.Year=ret.Year AND t6.Country=ret.Country)',conn)"
   ]
  },
  {
   "cell_type": "code",
   "execution_count": 18,
   "metadata": {},
   "outputs": [
    {
     "data": {
      "text/plain": [
       "('C:\\\\Users\\\\gualas\\\\Desktop\\\\prueba\\\\Missing_Migrants_Global_Figures_allData_0.csv',\n",
       " <http.client.HTTPMessage at 0x1fa2e770fa0>)"
      ]
     },
     "execution_count": 18,
     "metadata": {},
     "output_type": "execute_result"
    }
   ],
   "source": [
    "# Acceder a la página nro9 migrantes desaparecidos\n",
    "\n",
    "url = 'https://missingmigrants.iom.int/sites/g/files/tmzbdl601/files/2023-02/Missing_Migrants_Global_Figures_allData_0.csv'\n",
    "\n",
    "filename = os.path.join(os.path.expanduser(\"~\"), \"Desktop\\prueba\", \"Missing_Migrants_Global_Figures_allData_0.csv\")\n",
    "urlretrieve(url, filename)\n",
    "\n"
   ]
  },
  {
   "cell_type": "code",
   "execution_count": 50,
   "metadata": {},
   "outputs": [],
   "source": [
    "desaparecidos=pd.read_csv(r'desaparecidos\\Missing_Migrants_regiones.csv')"
   ]
  },
  {
   "cell_type": "code",
   "execution_count": 51,
   "metadata": {},
   "outputs": [],
   "source": [
    "desaparecidos=desaparecidos[desaparecidos['Region of Incident'].isin(['North America','Central America','Caribbean' ,'South America'])]\n",
    "desaparecidos=desaparecidos[desaparecidos['Region of Origin'].isin(['North America','Central America','Caribbean' ,'South America'])]"
   ]
  },
  {
   "cell_type": "code",
   "execution_count": 53,
   "metadata": {},
   "outputs": [
    {
     "data": {
      "text/plain": [
       "2048"
      ]
     },
     "execution_count": 53,
     "metadata": {},
     "output_type": "execute_result"
    }
   ],
   "source": [
    "desaparecidos.to_sql('des',conn,index=False)"
   ]
  },
  {
   "cell_type": "code",
   "execution_count": 54,
   "metadata": {},
   "outputs": [],
   "source": [
    "des=pd.read_sql('SELECT `Region of Incident`,SUM(`Total Number of Dead and Missing`) as total,`Incident year`,`Region of Origin` FROM des GROUP BY `Incident year`, `Region of Incident`',conn)"
   ]
  }
 ],
 "metadata": {
  "kernelspec": {
   "display_name": "base",
   "language": "python",
   "name": "python3"
  },
  "language_info": {
   "codemirror_mode": {
    "name": "ipython",
    "version": 3
   },
   "file_extension": ".py",
   "mimetype": "text/x-python",
   "name": "python",
   "nbconvert_exporter": "python",
   "pygments_lexer": "ipython3",
   "version": "3.9.12"
  },
  "orig_nbformat": 4,
  "vscode": {
   "interpreter": {
    "hash": "8c2e6f1f4adc7ae632a81ea71e6b725939e902c17d1e4f07be81139610fd6976"
   }
  }
 },
 "nbformat": 4,
 "nbformat_minor": 2
}
