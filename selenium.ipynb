{
 "cells": [
  {
   "cell_type": "code",
   "execution_count": 10,
   "metadata": {},
   "outputs": [],
   "source": [
    "from selenium import webdriver\n",
    "from selenium.webdriver.chrome.options import Options\n",
    "from selenium.webdriver.common.by import By\n",
    "from selenium.webdriver.support.ui import Select\n",
    "from selenium.webdriver.support.ui import WebDriverWait\n",
    "from selenium.webdriver.support import expected_conditions as EC\n",
    "from selenium.webdriver.common.by import By\n",
    "import time"
   ]
  },
  {
   "cell_type": "code",
   "execution_count": 11,
   "metadata": {},
   "outputs": [],
   "source": [
    "chrome_options = Options()\n",
    "chrome_options.add_experimental_option(\"prefs\", {\n",
    "    \"download.default_directory\": \"C:\\\\Users\\\\gualas\\\\Desktop\\\\prueba\",\n",
    "})"
   ]
  },
  {
   "cell_type": "code",
   "execution_count": 12,
   "metadata": {},
   "outputs": [
    {
     "name": "stderr",
     "output_type": "stream",
     "text": [
      "C:\\Users\\gualas\\AppData\\Local\\Temp\\ipykernel_11084\\3154625403.py:1: DeprecationWarning: executable_path has been deprecated, please pass in a Service object\n",
      "  driver = webdriver.Chrome(executable_path=r'C:\\Users\\gualas\\Desktop\\ChromeDriver\\chromedriver.exe',chrome_options=chrome_options)\n",
      "C:\\Users\\gualas\\AppData\\Local\\Temp\\ipykernel_11084\\3154625403.py:1: DeprecationWarning: use options instead of chrome_options\n",
      "  driver = webdriver.Chrome(executable_path=r'C:\\Users\\gualas\\Desktop\\ChromeDriver\\chromedriver.exe',chrome_options=chrome_options)\n"
     ]
    }
   ],
   "source": [
    "driver = webdriver.Chrome(executable_path=r'C:\\Users\\gualas\\Desktop\\ChromeDriver\\chromedriver.exe',chrome_options=chrome_options)\n",
    "# Acceder a la página\n",
    "driver.get(\"https://ourworldindata.org/world-population-growth\")\n",
    "\n",
    "time.sleep(5)\n",
    "# Cerrar ventana emergente de las cookies\n",
    "try:\n",
    "    boton_cookies = WebDriverWait(driver, 10).until(EC.element_to_be_clickable((By.XPATH, '/html/body/div[4]/div/div/div/div[2]/button')))\n",
    "    boton_cookies.click()\n",
    "except:\n",
    "    pass\n",
    "\n",
    "# Hacer clic en el botón \"Download chart\"\n",
    "enlace_descarga = WebDriverWait(driver, 10).until(EC.element_to_be_clickable((By.CSS_SELECTOR, 'a[data-track-note=\"chart-click-download\"]')))\n",
    "enlace_descarga.click()\n",
    "\n",
    "\n",
    "# Esperar a que aparezca el botón de descarga real\n",
    "boton_descarga = WebDriverWait(driver, 10).until(EC.element_to_be_clickable((By.XPATH, '/html/body/main/article/div[2]/div[2]/div/div/section[1]/figure/div/div[3]/div/div[4]/div/div[2]/div/button')))\n",
    "boton_descarga.click()\n"
   ]
  }
 ],
 "metadata": {
  "kernelspec": {
   "display_name": "base",
   "language": "python",
   "name": "python3"
  },
  "language_info": {
   "codemirror_mode": {
    "name": "ipython",
    "version": 3
   },
   "file_extension": ".py",
   "mimetype": "text/x-python",
   "name": "python",
   "nbconvert_exporter": "python",
   "pygments_lexer": "ipython3",
   "version": "3.9.12"
  },
  "orig_nbformat": 4,
  "vscode": {
   "interpreter": {
    "hash": "8c2e6f1f4adc7ae632a81ea71e6b725939e902c17d1e4f07be81139610fd6976"
   }
  }
 },
 "nbformat": 4,
 "nbformat_minor": 2
}
