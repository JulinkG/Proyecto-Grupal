{
 "cells": [
  {
   "cell_type": "code",
   "execution_count": 1,
   "metadata": {},
   "outputs": [],
   "source": [
    "from selenium import webdriver\n",
    "from selenium.webdriver.chrome.options import Options\n",
    "from selenium.webdriver.common.by import By\n",
    "from selenium.webdriver.support.ui import Select"
   ]
  },
  {
   "cell_type": "code",
   "execution_count": 2,
   "metadata": {},
   "outputs": [],
   "source": [
    "chrome_options = Options()\n",
    "chrome_options.add_experimental_option(\"prefs\", {\n",
    "    \"download.default_directory\": \"C:/Users/gualas/Desktop/prueba\",\n",
    "    \"download.prompt_for_download\": False,\n",
    "    \"download.directory_upgrade\": True,\n",
    "    \"safebrowsing.enabled\": True\n",
    "})"
   ]
  },
  {
   "cell_type": "code",
   "execution_count": 4,
   "metadata": {},
   "outputs": [
    {
     "ename": "NoSuchElementException",
     "evalue": "Message: no such element: Unable to locate element: {\"method\":\"xpath\",\"selector\":\"/html/body/main/article/div[3]/div/div/div/section/figure/div/div[3]/div/div[4]/div/nav/ul/li[5]/a\"}\n  (Session info: chrome=110.0.5481.100)\nStacktrace:\nBacktrace:\n\t(No symbol) [0x011A37D3]\n\t(No symbol) [0x01138B81]\n\t(No symbol) [0x0103B36D]\n\t(No symbol) [0x0106D382]\n\t(No symbol) [0x0106D4BB]\n\t(No symbol) [0x010A3302]\n\t(No symbol) [0x0108B464]\n\t(No symbol) [0x010A1215]\n\t(No symbol) [0x0108B216]\n\t(No symbol) [0x01060D97]\n\t(No symbol) [0x0106253D]\n\tGetHandleVerifier [0x0141ABF2+2510930]\n\tGetHandleVerifier [0x01448EC1+2700065]\n\tGetHandleVerifier [0x0144C86C+2714828]\n\tGetHandleVerifier [0x01253480+645344]\n\t(No symbol) [0x01140FD2]\n\t(No symbol) [0x01146C68]\n\t(No symbol) [0x01146D4B]\n\t(No symbol) [0x01150D6B]\n\tBaseThreadInitThunk [0x763C00F9+25]\n\tRtlGetAppContainerNamedObjectPath [0x77E67BBE+286]\n\tRtlGetAppContainerNamedObjectPath [0x77E67B8E+238]\n",
     "output_type": "error",
     "traceback": [
      "\u001b[1;31m---------------------------------------------------------------------------\u001b[0m",
      "\u001b[1;31mNoSuchElementException\u001b[0m                    Traceback (most recent call last)",
      "\u001b[1;32mc:\\Users\\gualas\\Desktop\\Proyecto-Grupal\\selenium.ipynb Celda 3\u001b[0m in \u001b[0;36m<cell line: 7>\u001b[1;34m()\u001b[0m\n\u001b[0;32m      <a href='vscode-notebook-cell:/c%3A/Users/gualas/Desktop/Proyecto-Grupal/selenium.ipynb#W2sZmlsZQ%3D%3D?line=3'>4</a>\u001b[0m boton_covid\u001b[39m=\u001b[39mdriver\u001b[39m.\u001b[39mfind_element(By\u001b[39m.\u001b[39mXPATH,\u001b[39m\"\u001b[39m\u001b[39m/html/body/div[1]/div/a\u001b[39m\u001b[39m\"\u001b[39m)\n\u001b[0;32m      <a href='vscode-notebook-cell:/c%3A/Users/gualas/Desktop/Proyecto-Grupal/selenium.ipynb#W2sZmlsZQ%3D%3D?line=4'>5</a>\u001b[0m boton_covid\u001b[39m.\u001b[39mclick()\n\u001b[1;32m----> <a href='vscode-notebook-cell:/c%3A/Users/gualas/Desktop/Proyecto-Grupal/selenium.ipynb#W2sZmlsZQ%3D%3D?line=6'>7</a>\u001b[0m boton_code\u001b[39m=\u001b[39mdriver\u001b[39m.\u001b[39;49mfind_element(By\u001b[39m.\u001b[39;49mXPATH,\u001b[39m\"\u001b[39;49m\u001b[39m/html/body/main/article/div[3]/div/div/div/section/figure/div/div[3]/div/div[4]/div/nav/ul/li[5]/a\u001b[39;49m\u001b[39m\"\u001b[39;49m)\n\u001b[0;32m      <a href='vscode-notebook-cell:/c%3A/Users/gualas/Desktop/Proyecto-Grupal/selenium.ipynb#W2sZmlsZQ%3D%3D?line=7'>8</a>\u001b[0m boton_code\u001b[39m.\u001b[39mclick()\u001b[39m#lo que no funciona\u001b[39;00m\n\u001b[0;32m     <a href='vscode-notebook-cell:/c%3A/Users/gualas/Desktop/Proyecto-Grupal/selenium.ipynb#W2sZmlsZQ%3D%3D?line=9'>10</a>\u001b[0m boton_descarga\u001b[39m=\u001b[39mdriver\u001b[39m.\u001b[39mfind_element(By\u001b[39m.\u001b[39mXPATH,\u001b[39m\"\u001b[39m\u001b[39m/html/body/main/article/div[2]/div[2]/div/div/section[1]/figure/div/div[3]/div/div[4]/div/div[2]/div/button\u001b[39m\u001b[39m\"\u001b[39m)\n",
      "File \u001b[1;32mc:\\Users\\gualas\\Anaconda3\\lib\\site-packages\\selenium\\webdriver\\remote\\webdriver.py:830\u001b[0m, in \u001b[0;36mWebDriver.find_element\u001b[1;34m(self, by, value)\u001b[0m\n\u001b[0;32m    827\u001b[0m     by \u001b[39m=\u001b[39m By\u001b[39m.\u001b[39mCSS_SELECTOR\n\u001b[0;32m    828\u001b[0m     value \u001b[39m=\u001b[39m \u001b[39mf\u001b[39m\u001b[39m'\u001b[39m\u001b[39m[name=\u001b[39m\u001b[39m\"\u001b[39m\u001b[39m{\u001b[39;00mvalue\u001b[39m}\u001b[39;00m\u001b[39m\"\u001b[39m\u001b[39m]\u001b[39m\u001b[39m'\u001b[39m\n\u001b[1;32m--> 830\u001b[0m \u001b[39mreturn\u001b[39;00m \u001b[39mself\u001b[39;49m\u001b[39m.\u001b[39;49mexecute(Command\u001b[39m.\u001b[39;49mFIND_ELEMENT, {\u001b[39m\"\u001b[39;49m\u001b[39musing\u001b[39;49m\u001b[39m\"\u001b[39;49m: by, \u001b[39m\"\u001b[39;49m\u001b[39mvalue\u001b[39;49m\u001b[39m\"\u001b[39;49m: value})[\u001b[39m\"\u001b[39m\u001b[39mvalue\u001b[39m\u001b[39m\"\u001b[39m]\n",
      "File \u001b[1;32mc:\\Users\\gualas\\Anaconda3\\lib\\site-packages\\selenium\\webdriver\\remote\\webdriver.py:440\u001b[0m, in \u001b[0;36mWebDriver.execute\u001b[1;34m(self, driver_command, params)\u001b[0m\n\u001b[0;32m    438\u001b[0m response \u001b[39m=\u001b[39m \u001b[39mself\u001b[39m\u001b[39m.\u001b[39mcommand_executor\u001b[39m.\u001b[39mexecute(driver_command, params)\n\u001b[0;32m    439\u001b[0m \u001b[39mif\u001b[39;00m response:\n\u001b[1;32m--> 440\u001b[0m     \u001b[39mself\u001b[39;49m\u001b[39m.\u001b[39;49merror_handler\u001b[39m.\u001b[39;49mcheck_response(response)\n\u001b[0;32m    441\u001b[0m     response[\u001b[39m\"\u001b[39m\u001b[39mvalue\u001b[39m\u001b[39m\"\u001b[39m] \u001b[39m=\u001b[39m \u001b[39mself\u001b[39m\u001b[39m.\u001b[39m_unwrap_value(response\u001b[39m.\u001b[39mget(\u001b[39m\"\u001b[39m\u001b[39mvalue\u001b[39m\u001b[39m\"\u001b[39m, \u001b[39mNone\u001b[39;00m))\n\u001b[0;32m    442\u001b[0m     \u001b[39mreturn\u001b[39;00m response\n",
      "File \u001b[1;32mc:\\Users\\gualas\\Anaconda3\\lib\\site-packages\\selenium\\webdriver\\remote\\errorhandler.py:245\u001b[0m, in \u001b[0;36mErrorHandler.check_response\u001b[1;34m(self, response)\u001b[0m\n\u001b[0;32m    243\u001b[0m         alert_text \u001b[39m=\u001b[39m value[\u001b[39m\"\u001b[39m\u001b[39malert\u001b[39m\u001b[39m\"\u001b[39m]\u001b[39m.\u001b[39mget(\u001b[39m\"\u001b[39m\u001b[39mtext\u001b[39m\u001b[39m\"\u001b[39m)\n\u001b[0;32m    244\u001b[0m     \u001b[39mraise\u001b[39;00m exception_class(message, screen, stacktrace, alert_text)  \u001b[39m# type: ignore[call-arg]  # mypy is not smart enough here\u001b[39;00m\n\u001b[1;32m--> 245\u001b[0m \u001b[39mraise\u001b[39;00m exception_class(message, screen, stacktrace)\n",
      "\u001b[1;31mNoSuchElementException\u001b[0m: Message: no such element: Unable to locate element: {\"method\":\"xpath\",\"selector\":\"/html/body/main/article/div[3]/div/div/div/section/figure/div/div[3]/div/div[4]/div/nav/ul/li[5]/a\"}\n  (Session info: chrome=110.0.5481.100)\nStacktrace:\nBacktrace:\n\t(No symbol) [0x011A37D3]\n\t(No symbol) [0x01138B81]\n\t(No symbol) [0x0103B36D]\n\t(No symbol) [0x0106D382]\n\t(No symbol) [0x0106D4BB]\n\t(No symbol) [0x010A3302]\n\t(No symbol) [0x0108B464]\n\t(No symbol) [0x010A1215]\n\t(No symbol) [0x0108B216]\n\t(No symbol) [0x01060D97]\n\t(No symbol) [0x0106253D]\n\tGetHandleVerifier [0x0141ABF2+2510930]\n\tGetHandleVerifier [0x01448EC1+2700065]\n\tGetHandleVerifier [0x0144C86C+2714828]\n\tGetHandleVerifier [0x01253480+645344]\n\t(No symbol) [0x01140FD2]\n\t(No symbol) [0x01146C68]\n\t(No symbol) [0x01146D4B]\n\t(No symbol) [0x01150D6B]\n\tBaseThreadInitThunk [0x763C00F9+25]\n\tRtlGetAppContainerNamedObjectPath [0x77E67BBE+286]\n\tRtlGetAppContainerNamedObjectPath [0x77E67B8E+238]\n"
     ]
    }
   ],
   "source": [
    "driver = webdriver.Chrome(options=chrome_options)\n",
    "driver.get(\"https://ourworldindata.org/world-population-growth\")\n",
    "\n",
    "boton_code=driver.find_element(By.XPATH,\"/html/body/main/article/div[3]/div/div/div/section/figure/div/div[3]/div/div[4]/div/nav/ul/li[5]/a\")\n",
    "boton_code.click()#lo que no funciona\n",
    "\n",
    "boton_descarga=driver.find_element(By.XPATH,\"/html/body/main/article/div[2]/div[2]/div/div/section[1]/figure/div/div[3]/div/div[4]/div/div[2]/div/button\")\n",
    "boton_descarga.click()#lo que no funciona\n",
    "\n"
   ]
  },
  {
   "cell_type": "code",
   "execution_count": 1,
   "metadata": {},
   "outputs": [
    {
     "name": "stdout",
     "output_type": "stream",
     "text": [
      "prueba1\n"
     ]
    }
   ],
   "source": [
    "print('prueba1')"
   ]
  }
 ],
 "metadata": {
  "kernelspec": {
   "display_name": "base",
   "language": "python",
   "name": "python3"
  },
  "language_info": {
   "codemirror_mode": {
    "name": "ipython",
    "version": 3
   },
   "file_extension": ".py",
   "mimetype": "text/x-python",
   "name": "python",
   "nbconvert_exporter": "python",
   "pygments_lexer": "ipython3",
   "version": "3.9.12"
  },
  "orig_nbformat": 4,
  "vscode": {
   "interpreter": {
    "hash": "8c2e6f1f4adc7ae632a81ea71e6b725939e902c17d1e4f07be81139610fd6976"
   }
  }
 },
 "nbformat": 4,
 "nbformat_minor": 2
}
