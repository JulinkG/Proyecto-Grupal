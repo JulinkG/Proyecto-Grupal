{
 "cells": [
  {
   "cell_type": "code",
   "execution_count": 41,
   "metadata": {},
   "outputs": [],
   "source": [
    "from selenium import webdriver\n",
    "from selenium.webdriver.chrome.options import Options\n",
    "from selenium.webdriver.common.by import By\n",
    "from selenium.webdriver.support.ui import Select\n",
    "from selenium.webdriver.support.ui import WebDriverWait\n",
    "from selenium.webdriver.support import expected_conditions as EC\n",
    "from selenium.webdriver.common.by import By\n",
    "import requests\n",
    "import time\n",
    "import os\n",
    "from urllib.request import urlretrieve"
   ]
  },
  {
   "cell_type": "code",
   "execution_count": 6,
   "metadata": {},
   "outputs": [],
   "source": [
    "chrome_options = Options()\n",
    "chrome_options.add_experimental_option(\"prefs\", {\n",
    "    \"download.default_directory\": \"C:\\\\Users\\\\gualas\\\\Desktop\\\\prueba\",\n",
    "})"
   ]
  },
  {
   "cell_type": "code",
   "execution_count": 9,
   "metadata": {},
   "outputs": [
    {
     "name": "stderr",
     "output_type": "stream",
     "text": [
      "C:\\Users\\under\\AppData\\Local\\Temp\\ipykernel_7432\\2733359357.py:1: DeprecationWarning: executable_path has been deprecated, please pass in a Service object\n",
      "  driver = webdriver.Chrome(executable_path=r'C:\\Users\\gualas\\Desktop\\ChromeDriver\\chromedriver.exe',options=chrome_options)\n"
     ]
    }
   ],
   "source": [
    "driver = webdriver.Chrome(executable_path=r'C:\\Users\\gualas\\Desktop\\ChromeDriver\\chromedriver.exe',options=chrome_options)\n",
    "# Acceder a la página nro1\n",
    "driver.get(\"https://ourworldindata.org/world-population-growth\")\n",
    "\n",
    "time.sleep(5)\n",
    "# Cerrar ventana emergente de las cookies\n",
    "try:\n",
    "    boton_cookies = WebDriverWait(driver, 10).until(EC.element_to_be_clickable((By.XPATH, '/html/body/div[4]/div/div/div/div[2]/button')))\n",
    "    boton_cookies.click()\n",
    "except:\n",
    "    pass\n",
    "\n",
    "# Hacer clic en el botón \"Download chart\"\n",
    "enlace_descarga = WebDriverWait(driver, 10).until(EC.element_to_be_clickable((By.CSS_SELECTOR, 'a[data-track-note=\"chart-click-download\"]')))\n",
    "enlace_descarga.click()\n",
    "\n",
    "\n",
    "# Esperar a que aparezca el botón de descarga real\n",
    "boton_descarga = WebDriverWait(driver, 10).until(EC.element_to_be_clickable((By.XPATH, '/html/body/main/article/div[2]/div[2]/div/div/section[1]/figure/div/div[3]/div/div[4]/div/div[2]/div/button')))\n",
    "boton_descarga.click()\n",
    "\n",
    "# Acceder a la página nro2\n",
    "driver.get(\"https://ourworldindata.org/migration\")\n",
    "\n",
    "time.sleep(5)\n",
    "# Cerrar ventana emergente de las cookies\n",
    "try:\n",
    "    boton_cookies = WebDriverWait(driver, 10).until(EC.element_to_be_clickable((By.XPATH, '/html/body/div[4]/div/div/div/div[2]/button')))\n",
    "    boton_cookies.click()\n",
    "except:\n",
    "    pass\n",
    "\n",
    "# Hacer clic en el botón \"Download chart\"\n",
    "enlace_descarga = WebDriverWait(driver, 10).until(EC.element_to_be_clickable((By.CSS_SELECTOR, 'a[data-track-note=\"chart-click-download\"]')))\n",
    "enlace_descarga.click()\n",
    "\n",
    "\n",
    "# Esperar a que aparezca el botón de descarga real                                      \n",
    "boton_descarga = WebDriverWait(driver, 10).until(EC.element_to_be_clickable((By.XPATH, '/html/body/main/article/div[2]/div/div/div/section/figure[1]/div/div[3]/div/div[4]/div/div[2]/div/button')))\n",
    "boton_descarga.click()\n",
    "\n",
    "time.sleep(2)\n",
    "driver.quit()"
   ]
  },
  {
   "cell_type": "code",
   "execution_count": null,
   "metadata": {},
   "outputs": [],
   "source": [
    "# Acceder a la página nro3\n",
    "#no se encuentra el archivo de descarga data inflacion % "
   ]
  },
  {
   "cell_type": "code",
   "execution_count": 13,
   "metadata": {},
   "outputs": [],
   "source": [
    "# Acceder a la página nro4\n",
    "driver = webdriver.Chrome()\n",
    "\n",
    "# Abrir la página de la URL dada\n",
    "driver.get(\"https://datos.bancomundial.org/indicador/NY.GDP.MKTP.KD.ZG\")\n",
    "\n",
    "# Esperar a que el botón de descarga esté disponible y hacer clic en él\n",
    "boton_descarga = WebDriverWait(driver, 10).until(EC.element_to_be_clickable((By.XPATH, '//*[@id=\"mainChart\"]/aside/div/div[2]/div/p/a[1]')))\n",
    "boton_descarga.click()\n",
    "\n",
    "time.sleep(2)\n",
    "driver.quit()"
   ]
  },
  {
   "cell_type": "code",
   "execution_count": 17,
   "metadata": {},
   "outputs": [],
   "source": [
    "# Acceder a la página nro5 poblacion femenina \n",
    "\n",
    "driver = webdriver.Chrome()\n",
    "\n",
    "# Abrir la página de la URL dada\n",
    "driver.get(\"https://ourworldindata.org/world-population-growth\")\n",
    "\n",
    "# Cerrar ventana emergente de las cookies\n",
    "try:\n",
    "    boton_cookies = WebDriverWait(driver, 10).until(EC.element_to_be_clickable((By.XPATH, '/html/body/div[4]/div/div/div/div[2]/button')))\n",
    "    boton_cookies.click()\n",
    "except:\n",
    "    pass\n",
    "\n",
    "boton_descarga = WebDriverWait(driver, 10).until(EC.element_to_be_clickable((By.XPATH, '/html/body/main/article/div[2]/div[2]/div/div/section[1]/figure/div/form/div[2]/div[3]/label/input')))\n",
    "boton_descarga.click()\n",
    "\n",
    "# Hacer clic en el botón \"Download chart\"\n",
    "enlace_descarga = WebDriverWait(driver, 10).until(EC.element_to_be_clickable((By.CSS_SELECTOR, 'a[data-track-note=\"chart-click-download\"]')))\n",
    "enlace_descarga.click()\n",
    "\n",
    "\n",
    "# Esperar a que aparezca el botón de descarga real\n",
    "boton_descarga = WebDriverWait(driver, 10).until(EC.element_to_be_clickable((By.XPATH, '/html/body/main/article/div[2]/div[2]/div/div/section[1]/figure/div/div[3]/div/div[4]/div/div[2]/div/button')))\n",
    "boton_descarga.click()\n",
    "\n",
    "time.sleep(2)\n",
    "driver.quit()"
   ]
  },
  {
   "cell_type": "code",
   "execution_count": 18,
   "metadata": {},
   "outputs": [],
   "source": [
    "# Acceder a la página nro6 poblacion masculina\n",
    "\n",
    "driver = webdriver.Chrome()\n",
    "\n",
    "# Abrir la página de la URL dada\n",
    "driver.get(\"https://ourworldindata.org/world-population-growth\")\n",
    "\n",
    "# Cerrar ventana emergente de las cookies\n",
    "try:\n",
    "    boton_cookies = WebDriverWait(driver, 10).until(EC.element_to_be_clickable((By.XPATH, '/html/body/div[4]/div/div/div/div[2]/button')))\n",
    "    boton_cookies.click()\n",
    "except:\n",
    "    pass\n",
    "\n",
    "boton_descarga = WebDriverWait(driver, 10).until(EC.element_to_be_clickable((By.XPATH, '/html/body/main/article/div[2]/div[2]/div/div/section[1]/figure/div/form/div[2]/div[4]/label/input')))\n",
    "boton_descarga.click()\n",
    "\n",
    "# Hacer clic en el botón \"Download chart\"\n",
    "enlace_descarga = WebDriverWait(driver, 10).until(EC.element_to_be_clickable((By.CSS_SELECTOR, 'a[data-track-note=\"chart-click-download\"]')))\n",
    "enlace_descarga.click()\n",
    "\n",
    "\n",
    "# Esperar a que aparezca el botón de descarga real\n",
    "boton_descarga = WebDriverWait(driver, 10).until(EC.element_to_be_clickable((By.XPATH, '/html/body/main/article/div[2]/div[2]/div/div/section[1]/figure/div/div[3]/div/div[4]/div/div[2]/div/button')))\n",
    "boton_descarga.click()\n",
    "\n",
    "time.sleep(2)\n",
    "driver.quit()"
   ]
  },
  {
   "attachments": {},
   "cell_type": "markdown",
   "metadata": {},
   "source": [
    "verificar poblacion total"
   ]
  },
  {
   "cell_type": "code",
   "execution_count": 21,
   "metadata": {},
   "outputs": [],
   "source": [
    "# Acceder a la página nro7 poblacion total\n",
    "\n",
    "driver = webdriver.Chrome()\n",
    "\n",
    "# Abrir la página de la URL dada\n",
    "driver.get(\"https://ourworldindata.org/world-population-growth\")\n",
    "\n",
    "# Cerrar ventana emergente de las cookies\n",
    "try:\n",
    "    boton_cookies = WebDriverWait(driver, 10).until(EC.element_to_be_clickable((By.XPATH, '/html/body/div[4]/div/div/div/div[2]/button')))\n",
    "    boton_cookies.click()\n",
    "except:\n",
    "    pass\n",
    "\n",
    "boton_descarga = WebDriverWait(driver, 10).until(EC.element_to_be_clickable((By.XPATH, '/html/body/main/article/div[2]/div[2]/div/div/section[1]/figure/div/form/div[2]/div[2]/label/input')))\n",
    "boton_descarga.click()\n",
    "\n",
    "# Hacer clic en el botón \"Download chart\"\n",
    "enlace_descarga = WebDriverWait(driver, 10).until(EC.element_to_be_clickable((By.CSS_SELECTOR, 'a[data-track-note=\"chart-click-download\"]')))\n",
    "enlace_descarga.click()\n",
    "\n",
    "\n",
    "# Esperar a que aparezca el botón de descarga real\n",
    "boton_descarga = WebDriverWait(driver, 10).until(EC.element_to_be_clickable((By.XPATH, '/html/body/main/article/div[2]/div[2]/div/div/section[1]/figure/div/div[3]/div/div[4]/div/div[2]/div/button')))\n",
    "boton_descarga.click()\n",
    "\n",
    "time.sleep(2)\n",
    "driver.quit()"
   ]
  },
  {
   "cell_type": "code",
   "execution_count": 42,
   "metadata": {},
   "outputs": [
    {
     "data": {
      "text/plain": [
       "('C:\\\\Users\\\\under\\\\Downloads\\\\Missing_Migrants_Global_Figures_allData_0.csv',\n",
       " <http.client.HTTPMessage at 0x2cfba685810>)"
      ]
     },
     "execution_count": 42,
     "metadata": {},
     "output_type": "execute_result"
    }
   ],
   "source": [
    "# Acceder a la página nro9 migrantes desaparecidos\n",
    "\n",
    "url = 'https://missingmigrants.iom.int/sites/g/files/tmzbdl601/files/2023-02/Missing_Migrants_Global_Figures_allData_0.csv'\n",
    "\n",
    "filename = os.path.join(os.path.expanduser(\"~\"), \"Downloads\", \"Missing_Migrants_Global_Figures_allData_0.csv\")\n",
    "urlretrieve(url, filename)\n",
    "\n"
   ]
  }
 ],
 "metadata": {
  "kernelspec": {
   "display_name": "Python 3",
   "language": "python",
   "name": "python3"
  },
  "language_info": {
   "codemirror_mode": {
    "name": "ipython",
    "version": 3
   },
   "file_extension": ".py",
   "mimetype": "text/x-python",
   "name": "python",
   "nbconvert_exporter": "python",
   "pygments_lexer": "ipython3",
   "version": "3.11.2"
  },
  "orig_nbformat": 4,
  "vscode": {
   "interpreter": {
    "hash": "3cda0feca9ea27a8a5391dc89653424a0a758bed3c677f1078fd943ef26cb9fe"
   }
  }
 },
 "nbformat": 4,
 "nbformat_minor": 2
}
